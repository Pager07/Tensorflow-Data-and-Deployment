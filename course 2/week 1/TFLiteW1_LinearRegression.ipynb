{
  "nbformat": 4,
  "nbformat_minor": 0,
  "metadata": {
    "colab": {
      "name": "TFLiteW1_LinearRegression.ipynb",
      "provenance": [],
      "authorship_tag": "ABX9TyPXtnheCCifHv1oBqbZj3I+",
      "include_colab_link": true
    },
    "kernelspec": {
      "name": "python3",
      "display_name": "Python 3"
    },
    "accelerator": "GPU"
  },
  "cells": [
    {
      "cell_type": "markdown",
      "metadata": {
        "id": "view-in-github",
        "colab_type": "text"
      },
      "source": [
        "<a href=\"https://colab.research.google.com/github/Pager07/Tensorflow-Data-and-Deployment/blob/master/course%202/week%201/TFLiteW1_LinearRegression.ipynb\" target=\"_parent\"><img src=\"https://colab.research.google.com/assets/colab-badge.svg\" alt=\"Open In Colab\"/></a>"
      ]
    },
    {
      "cell_type": "code",
      "metadata": {
        "id": "UqQeVqfg55Hr",
        "colab_type": "code",
        "colab": {}
      },
      "source": [
        "try:\n",
        "  %tensorflow_version 2.x\n",
        "except:\n",
        "  pass"
      ],
      "execution_count": 1,
      "outputs": []
    },
    {
      "cell_type": "code",
      "metadata": {
        "id": "gRImKIpG7bRe",
        "colab_type": "code",
        "colab": {
          "base_uri": "https://localhost:8080/",
          "height": 34
        },
        "outputId": "50e36ba1-942c-4396-f969-0177808f9418"
      },
      "source": [
        "import pathlib \n",
        "import matplotlib.pyplot as plt \n",
        "import numpy as np \n",
        "import tensorflow as tf\n",
        "\n",
        "print('Using tensoflow version:',tf.__version__)"
      ],
      "execution_count": 2,
      "outputs": [
        {
          "output_type": "stream",
          "text": [
            "Using tensoflow version: 2.3.0\n"
          ],
          "name": "stdout"
        }
      ]
    },
    {
      "cell_type": "markdown",
      "metadata": {
        "id": "0XRFvFii81-w",
        "colab_type": "text"
      },
      "source": [
        "#Creating basic model"
      ]
    },
    {
      "cell_type": "code",
      "metadata": {
        "id": "SSJOk5wT8xwK",
        "colab_type": "code",
        "colab": {
          "base_uri": "https://localhost:8080/",
          "height": 1000
        },
        "outputId": "cf73b9af-29c3-4c06-f41d-b0564bb9f103"
      },
      "source": [
        "x = [2,-1,3,4,-5,9,5]\n",
        "y = [4,-2,6,8,-10,18,10]\n",
        "\n",
        "model = tf.keras.models.Sequential(\n",
        "    tf.keras.layers.Dense(units=1 , input_shape=[1])\n",
        ");\n",
        "\n",
        "model.compile(optimizer='sgd' , loss='mean_squared_error')\n",
        "\n",
        "model.fit(x,y, epochs=200)"
      ],
      "execution_count": 4,
      "outputs": [
        {
          "output_type": "stream",
          "text": [
            "Epoch 1/200\n",
            "1/1 [==============================] - 0s 1ms/step - loss: 48.4135\n",
            "Epoch 2/200\n",
            "1/1 [==============================] - 0s 1ms/step - loss: 13.8542\n",
            "Epoch 3/200\n",
            "1/1 [==============================] - 0s 847us/step - loss: 3.9731\n",
            "Epoch 4/200\n",
            "1/1 [==============================] - 0s 942us/step - loss: 1.1477\n",
            "Epoch 5/200\n",
            "1/1 [==============================] - 0s 923us/step - loss: 0.3395\n",
            "Epoch 6/200\n",
            "1/1 [==============================] - 0s 926us/step - loss: 0.1081\n",
            "Epoch 7/200\n",
            "1/1 [==============================] - 0s 932us/step - loss: 0.0417\n",
            "Epoch 8/200\n",
            "1/1 [==============================] - 0s 884us/step - loss: 0.0223\n",
            "Epoch 9/200\n",
            "1/1 [==============================] - 0s 911us/step - loss: 0.0165\n",
            "Epoch 10/200\n",
            "1/1 [==============================] - 0s 922us/step - loss: 0.0146\n",
            "Epoch 11/200\n",
            "1/1 [==============================] - 0s 840us/step - loss: 0.0137\n",
            "Epoch 12/200\n",
            "1/1 [==============================] - 0s 1ms/step - loss: 0.0132\n",
            "Epoch 13/200\n",
            "1/1 [==============================] - 0s 812us/step - loss: 0.0128\n",
            "Epoch 14/200\n",
            "1/1 [==============================] - 0s 1ms/step - loss: 0.0124\n",
            "Epoch 15/200\n",
            "1/1 [==============================] - 0s 829us/step - loss: 0.0120\n",
            "Epoch 16/200\n",
            "1/1 [==============================] - 0s 833us/step - loss: 0.0117\n",
            "Epoch 17/200\n",
            "1/1 [==============================] - 0s 911us/step - loss: 0.0113\n",
            "Epoch 18/200\n",
            "1/1 [==============================] - 0s 903us/step - loss: 0.0110\n",
            "Epoch 19/200\n",
            "1/1 [==============================] - 0s 905us/step - loss: 0.0107\n",
            "Epoch 20/200\n",
            "1/1 [==============================] - 0s 920us/step - loss: 0.0104\n",
            "Epoch 21/200\n",
            "1/1 [==============================] - 0s 1ms/step - loss: 0.0101\n",
            "Epoch 22/200\n",
            "1/1 [==============================] - 0s 984us/step - loss: 0.0098\n",
            "Epoch 23/200\n",
            "1/1 [==============================] - 0s 926us/step - loss: 0.0095\n",
            "Epoch 24/200\n",
            "1/1 [==============================] - 0s 747us/step - loss: 0.0092\n",
            "Epoch 25/200\n",
            "1/1 [==============================] - 0s 1ms/step - loss: 0.0089\n",
            "Epoch 26/200\n",
            "1/1 [==============================] - 0s 936us/step - loss: 0.0087\n",
            "Epoch 27/200\n",
            "1/1 [==============================] - 0s 1ms/step - loss: 0.0084\n",
            "Epoch 28/200\n",
            "1/1 [==============================] - 0s 787us/step - loss: 0.0082\n",
            "Epoch 29/200\n",
            "1/1 [==============================] - 0s 980us/step - loss: 0.0079\n",
            "Epoch 30/200\n",
            "1/1 [==============================] - 0s 789us/step - loss: 0.0077\n",
            "Epoch 31/200\n",
            "1/1 [==============================] - 0s 828us/step - loss: 0.0075\n",
            "Epoch 32/200\n",
            "1/1 [==============================] - 0s 935us/step - loss: 0.0073\n",
            "Epoch 33/200\n",
            "1/1 [==============================] - 0s 991us/step - loss: 0.0071\n",
            "Epoch 34/200\n",
            "1/1 [==============================] - 0s 1ms/step - loss: 0.0068\n",
            "Epoch 35/200\n",
            "1/1 [==============================] - 0s 858us/step - loss: 0.0066\n",
            "Epoch 36/200\n",
            "1/1 [==============================] - 0s 860us/step - loss: 0.0065\n",
            "Epoch 37/200\n",
            "1/1 [==============================] - 0s 928us/step - loss: 0.0063\n",
            "Epoch 38/200\n",
            "1/1 [==============================] - 0s 1ms/step - loss: 0.0061\n",
            "Epoch 39/200\n",
            "1/1 [==============================] - 0s 851us/step - loss: 0.0059\n",
            "Epoch 40/200\n",
            "1/1 [==============================] - 0s 871us/step - loss: 0.0057\n",
            "Epoch 41/200\n",
            "1/1 [==============================] - 0s 892us/step - loss: 0.0056\n",
            "Epoch 42/200\n",
            "1/1 [==============================] - 0s 954us/step - loss: 0.0054\n",
            "Epoch 43/200\n",
            "1/1 [==============================] - 0s 945us/step - loss: 0.0052\n",
            "Epoch 44/200\n",
            "1/1 [==============================] - 0s 843us/step - loss: 0.0051\n",
            "Epoch 45/200\n",
            "1/1 [==============================] - 0s 851us/step - loss: 0.0049\n",
            "Epoch 46/200\n",
            "1/1 [==============================] - 0s 836us/step - loss: 0.0048\n",
            "Epoch 47/200\n",
            "1/1 [==============================] - 0s 798us/step - loss: 0.0047\n",
            "Epoch 48/200\n",
            "1/1 [==============================] - 0s 916us/step - loss: 0.0045\n",
            "Epoch 49/200\n",
            "1/1 [==============================] - 0s 864us/step - loss: 0.0044\n",
            "Epoch 50/200\n",
            "1/1 [==============================] - 0s 858us/step - loss: 0.0043\n",
            "Epoch 51/200\n",
            "1/1 [==============================] - 0s 920us/step - loss: 0.0041\n",
            "Epoch 52/200\n",
            "1/1 [==============================] - 0s 1ms/step - loss: 0.0040\n",
            "Epoch 53/200\n",
            "1/1 [==============================] - 0s 868us/step - loss: 0.0039\n",
            "Epoch 54/200\n",
            "1/1 [==============================] - 0s 2ms/step - loss: 0.0038\n",
            "Epoch 55/200\n",
            "1/1 [==============================] - 0s 908us/step - loss: 0.0037\n",
            "Epoch 56/200\n",
            "1/1 [==============================] - 0s 865us/step - loss: 0.0036\n",
            "Epoch 57/200\n",
            "1/1 [==============================] - 0s 2ms/step - loss: 0.0035\n",
            "Epoch 58/200\n",
            "1/1 [==============================] - 0s 2ms/step - loss: 0.0034\n",
            "Epoch 59/200\n",
            "1/1 [==============================] - 0s 2ms/step - loss: 0.0033\n",
            "Epoch 60/200\n",
            "1/1 [==============================] - 0s 865us/step - loss: 0.0032\n",
            "Epoch 61/200\n",
            "1/1 [==============================] - 0s 882us/step - loss: 0.0031\n",
            "Epoch 62/200\n",
            "1/1 [==============================] - 0s 985us/step - loss: 0.0030\n",
            "Epoch 63/200\n",
            "1/1 [==============================] - 0s 999us/step - loss: 0.0029\n",
            "Epoch 64/200\n",
            "1/1 [==============================] - 0s 932us/step - loss: 0.0028\n",
            "Epoch 65/200\n",
            "1/1 [==============================] - 0s 853us/step - loss: 0.0027\n",
            "Epoch 66/200\n",
            "1/1 [==============================] - 0s 932us/step - loss: 0.0027\n",
            "Epoch 67/200\n",
            "1/1 [==============================] - 0s 1ms/step - loss: 0.0026\n",
            "Epoch 68/200\n",
            "1/1 [==============================] - 0s 911us/step - loss: 0.0025\n",
            "Epoch 69/200\n",
            "1/1 [==============================] - 0s 2ms/step - loss: 0.0024\n",
            "Epoch 70/200\n",
            "1/1 [==============================] - 0s 3ms/step - loss: 0.0024\n",
            "Epoch 71/200\n",
            "1/1 [==============================] - 0s 903us/step - loss: 0.0023\n",
            "Epoch 72/200\n",
            "1/1 [==============================] - 0s 947us/step - loss: 0.0022\n",
            "Epoch 73/200\n",
            "1/1 [==============================] - 0s 926us/step - loss: 0.0022\n",
            "Epoch 74/200\n",
            "1/1 [==============================] - 0s 876us/step - loss: 0.0021\n",
            "Epoch 75/200\n",
            "1/1 [==============================] - 0s 1ms/step - loss: 0.0020\n",
            "Epoch 76/200\n",
            "1/1 [==============================] - 0s 4ms/step - loss: 0.0020\n",
            "Epoch 77/200\n",
            "1/1 [==============================] - 0s 3ms/step - loss: 0.0019\n",
            "Epoch 78/200\n",
            "1/1 [==============================] - 0s 845us/step - loss: 0.0019\n",
            "Epoch 79/200\n",
            "1/1 [==============================] - 0s 1ms/step - loss: 0.0018\n",
            "Epoch 80/200\n",
            "1/1 [==============================] - 0s 1ms/step - loss: 0.0018\n",
            "Epoch 81/200\n",
            "1/1 [==============================] - 0s 1ms/step - loss: 0.0017\n",
            "Epoch 82/200\n",
            "1/1 [==============================] - 0s 764us/step - loss: 0.0017\n",
            "Epoch 83/200\n",
            "1/1 [==============================] - 0s 986us/step - loss: 0.0016\n",
            "Epoch 84/200\n",
            "1/1 [==============================] - 0s 1ms/step - loss: 0.0016\n",
            "Epoch 85/200\n",
            "1/1 [==============================] - 0s 870us/step - loss: 0.0015\n",
            "Epoch 86/200\n",
            "1/1 [==============================] - 0s 1ms/step - loss: 0.0015\n",
            "Epoch 87/200\n",
            "1/1 [==============================] - 0s 3ms/step - loss: 0.0014\n",
            "Epoch 88/200\n",
            "1/1 [==============================] - 0s 952us/step - loss: 0.0014\n",
            "Epoch 89/200\n",
            "1/1 [==============================] - 0s 3ms/step - loss: 0.0013\n",
            "Epoch 90/200\n",
            "1/1 [==============================] - 0s 1ms/step - loss: 0.0013\n",
            "Epoch 91/200\n",
            "1/1 [==============================] - 0s 2ms/step - loss: 0.0013\n",
            "Epoch 92/200\n",
            "1/1 [==============================] - 0s 1ms/step - loss: 0.0012\n",
            "Epoch 93/200\n",
            "1/1 [==============================] - 0s 1ms/step - loss: 0.0012\n",
            "Epoch 94/200\n",
            "1/1 [==============================] - 0s 863us/step - loss: 0.0012\n",
            "Epoch 95/200\n",
            "1/1 [==============================] - 0s 1ms/step - loss: 0.0011\n",
            "Epoch 96/200\n",
            "1/1 [==============================] - 0s 935us/step - loss: 0.0011\n",
            "Epoch 97/200\n",
            "1/1 [==============================] - 0s 3ms/step - loss: 0.0011\n",
            "Epoch 98/200\n",
            "1/1 [==============================] - 0s 3ms/step - loss: 0.0010\n",
            "Epoch 99/200\n",
            "1/1 [==============================] - 0s 919us/step - loss: 9.9806e-04\n",
            "Epoch 100/200\n",
            "1/1 [==============================] - 0s 1ms/step - loss: 9.6893e-04\n",
            "Epoch 101/200\n",
            "1/1 [==============================] - 0s 899us/step - loss: 9.4064e-04\n",
            "Epoch 102/200\n",
            "1/1 [==============================] - 0s 4ms/step - loss: 9.1320e-04\n",
            "Epoch 103/200\n",
            "1/1 [==============================] - 0s 928us/step - loss: 8.8654e-04\n",
            "Epoch 104/200\n",
            "1/1 [==============================] - 0s 849us/step - loss: 8.6066e-04\n",
            "Epoch 105/200\n",
            "1/1 [==============================] - 0s 1ms/step - loss: 8.3554e-04\n",
            "Epoch 106/200\n",
            "1/1 [==============================] - 0s 987us/step - loss: 8.1116e-04\n",
            "Epoch 107/200\n",
            "1/1 [==============================] - 0s 808us/step - loss: 7.8749e-04\n",
            "Epoch 108/200\n",
            "1/1 [==============================] - 0s 884us/step - loss: 7.6450e-04\n",
            "Epoch 109/200\n",
            "1/1 [==============================] - 0s 2ms/step - loss: 7.4218e-04\n",
            "Epoch 110/200\n",
            "1/1 [==============================] - 0s 3ms/step - loss: 7.2053e-04\n",
            "Epoch 111/200\n",
            "1/1 [==============================] - 0s 950us/step - loss: 6.9949e-04\n",
            "Epoch 112/200\n",
            "1/1 [==============================] - 0s 860us/step - loss: 6.7907e-04\n",
            "Epoch 113/200\n",
            "1/1 [==============================] - 0s 856us/step - loss: 6.5924e-04\n",
            "Epoch 114/200\n",
            "1/1 [==============================] - 0s 1ms/step - loss: 6.4002e-04\n",
            "Epoch 115/200\n",
            "1/1 [==============================] - 0s 990us/step - loss: 6.2132e-04\n",
            "Epoch 116/200\n",
            "1/1 [==============================] - 0s 948us/step - loss: 6.0320e-04\n",
            "Epoch 117/200\n",
            "1/1 [==============================] - 0s 944us/step - loss: 5.8559e-04\n",
            "Epoch 118/200\n",
            "1/1 [==============================] - 0s 2ms/step - loss: 5.6849e-04\n",
            "Epoch 119/200\n",
            "1/1 [==============================] - 0s 920us/step - loss: 5.5190e-04\n",
            "Epoch 120/200\n",
            "1/1 [==============================] - 0s 980us/step - loss: 5.3579e-04\n",
            "Epoch 121/200\n",
            "1/1 [==============================] - 0s 891us/step - loss: 5.2014e-04\n",
            "Epoch 122/200\n",
            "1/1 [==============================] - 0s 892us/step - loss: 5.0498e-04\n",
            "Epoch 123/200\n",
            "1/1 [==============================] - 0s 2ms/step - loss: 4.9023e-04\n",
            "Epoch 124/200\n",
            "1/1 [==============================] - 0s 903us/step - loss: 4.7592e-04\n",
            "Epoch 125/200\n",
            "1/1 [==============================] - 0s 858us/step - loss: 4.6203e-04\n",
            "Epoch 126/200\n",
            "1/1 [==============================] - 0s 872us/step - loss: 4.4855e-04\n",
            "Epoch 127/200\n",
            "1/1 [==============================] - 0s 3ms/step - loss: 4.3546e-04\n",
            "Epoch 128/200\n",
            "1/1 [==============================] - 0s 902us/step - loss: 4.2275e-04\n",
            "Epoch 129/200\n",
            "1/1 [==============================] - 0s 1ms/step - loss: 4.1040e-04\n",
            "Epoch 130/200\n",
            "1/1 [==============================] - 0s 1ms/step - loss: 3.9843e-04\n",
            "Epoch 131/200\n",
            "1/1 [==============================] - 0s 835us/step - loss: 3.8680e-04\n",
            "Epoch 132/200\n",
            "1/1 [==============================] - 0s 892us/step - loss: 3.7552e-04\n",
            "Epoch 133/200\n",
            "1/1 [==============================] - 0s 917us/step - loss: 3.6454e-04\n",
            "Epoch 134/200\n",
            "1/1 [==============================] - 0s 864us/step - loss: 3.5391e-04\n",
            "Epoch 135/200\n",
            "1/1 [==============================] - 0s 930us/step - loss: 3.4358e-04\n",
            "Epoch 136/200\n",
            "1/1 [==============================] - 0s 855us/step - loss: 3.3355e-04\n",
            "Epoch 137/200\n",
            "1/1 [==============================] - 0s 883us/step - loss: 3.2381e-04\n",
            "Epoch 138/200\n",
            "1/1 [==============================] - 0s 804us/step - loss: 3.1436e-04\n",
            "Epoch 139/200\n",
            "1/1 [==============================] - 0s 779us/step - loss: 3.0518e-04\n",
            "Epoch 140/200\n",
            "1/1 [==============================] - 0s 1ms/step - loss: 2.9628e-04\n",
            "Epoch 141/200\n",
            "1/1 [==============================] - 0s 810us/step - loss: 2.8763e-04\n",
            "Epoch 142/200\n",
            "1/1 [==============================] - 0s 924us/step - loss: 2.7923e-04\n",
            "Epoch 143/200\n",
            "1/1 [==============================] - 0s 930us/step - loss: 2.7109e-04\n",
            "Epoch 144/200\n",
            "1/1 [==============================] - 0s 941us/step - loss: 2.6317e-04\n",
            "Epoch 145/200\n",
            "1/1 [==============================] - 0s 871us/step - loss: 2.5549e-04\n",
            "Epoch 146/200\n",
            "1/1 [==============================] - 0s 941us/step - loss: 2.4804e-04\n",
            "Epoch 147/200\n",
            "1/1 [==============================] - 0s 823us/step - loss: 2.4079e-04\n",
            "Epoch 148/200\n",
            "1/1 [==============================] - 0s 968us/step - loss: 2.3377e-04\n",
            "Epoch 149/200\n",
            "1/1 [==============================] - 0s 870us/step - loss: 2.2694e-04\n",
            "Epoch 150/200\n",
            "1/1 [==============================] - 0s 1ms/step - loss: 2.2032e-04\n",
            "Epoch 151/200\n",
            "1/1 [==============================] - 0s 1ms/step - loss: 2.1389e-04\n",
            "Epoch 152/200\n",
            "1/1 [==============================] - 0s 912us/step - loss: 2.0764e-04\n",
            "Epoch 153/200\n",
            "1/1 [==============================] - 0s 756us/step - loss: 2.0158e-04\n",
            "Epoch 154/200\n",
            "1/1 [==============================] - 0s 901us/step - loss: 1.9570e-04\n",
            "Epoch 155/200\n",
            "1/1 [==============================] - 0s 917us/step - loss: 1.8999e-04\n",
            "Epoch 156/200\n",
            "1/1 [==============================] - 0s 875us/step - loss: 1.8445e-04\n",
            "Epoch 157/200\n",
            "1/1 [==============================] - 0s 1ms/step - loss: 1.7906e-04\n",
            "Epoch 158/200\n",
            "1/1 [==============================] - 0s 931us/step - loss: 1.7383e-04\n",
            "Epoch 159/200\n",
            "1/1 [==============================] - 0s 1ms/step - loss: 1.6876e-04\n",
            "Epoch 160/200\n",
            "1/1 [==============================] - 0s 931us/step - loss: 1.6384e-04\n",
            "Epoch 161/200\n",
            "1/1 [==============================] - 0s 833us/step - loss: 1.5905e-04\n",
            "Epoch 162/200\n",
            "1/1 [==============================] - 0s 939us/step - loss: 1.5441e-04\n",
            "Epoch 163/200\n",
            "1/1 [==============================] - 0s 3ms/step - loss: 1.4990e-04\n",
            "Epoch 164/200\n",
            "1/1 [==============================] - 0s 2ms/step - loss: 1.4553e-04\n",
            "Epoch 165/200\n",
            "1/1 [==============================] - 0s 2ms/step - loss: 1.4128e-04\n",
            "Epoch 166/200\n",
            "1/1 [==============================] - 0s 1ms/step - loss: 1.3716e-04\n",
            "Epoch 167/200\n",
            "1/1 [==============================] - 0s 1ms/step - loss: 1.3315e-04\n",
            "Epoch 168/200\n",
            "1/1 [==============================] - 0s 776us/step - loss: 1.2927e-04\n",
            "Epoch 169/200\n",
            "1/1 [==============================] - 0s 1ms/step - loss: 1.2550e-04\n",
            "Epoch 170/200\n",
            "1/1 [==============================] - 0s 953us/step - loss: 1.2183e-04\n",
            "Epoch 171/200\n",
            "1/1 [==============================] - 0s 939us/step - loss: 1.1827e-04\n",
            "Epoch 172/200\n",
            "1/1 [==============================] - 0s 873us/step - loss: 1.1482e-04\n",
            "Epoch 173/200\n",
            "1/1 [==============================] - 0s 983us/step - loss: 1.1147e-04\n",
            "Epoch 174/200\n",
            "1/1 [==============================] - 0s 1ms/step - loss: 1.0822e-04\n",
            "Epoch 175/200\n",
            "1/1 [==============================] - 0s 2ms/step - loss: 1.0506e-04\n",
            "Epoch 176/200\n",
            "1/1 [==============================] - 0s 2ms/step - loss: 1.0199e-04\n",
            "Epoch 177/200\n",
            "1/1 [==============================] - 0s 1ms/step - loss: 9.9018e-05\n",
            "Epoch 178/200\n",
            "1/1 [==============================] - 0s 855us/step - loss: 9.6127e-05\n",
            "Epoch 179/200\n",
            "1/1 [==============================] - 0s 892us/step - loss: 9.3322e-05\n",
            "Epoch 180/200\n",
            "1/1 [==============================] - 0s 1ms/step - loss: 9.0593e-05\n",
            "Epoch 181/200\n",
            "1/1 [==============================] - 0s 873us/step - loss: 8.7953e-05\n",
            "Epoch 182/200\n",
            "1/1 [==============================] - 0s 892us/step - loss: 8.5384e-05\n",
            "Epoch 183/200\n",
            "1/1 [==============================] - 0s 1ms/step - loss: 8.2892e-05\n",
            "Epoch 184/200\n",
            "1/1 [==============================] - 0s 2ms/step - loss: 8.0469e-05\n",
            "Epoch 185/200\n",
            "1/1 [==============================] - 0s 945us/step - loss: 7.8125e-05\n",
            "Epoch 186/200\n",
            "1/1 [==============================] - 0s 830us/step - loss: 7.5843e-05\n",
            "Epoch 187/200\n",
            "1/1 [==============================] - 0s 921us/step - loss: 7.3626e-05\n",
            "Epoch 188/200\n",
            "1/1 [==============================] - 0s 839us/step - loss: 7.1479e-05\n",
            "Epoch 189/200\n",
            "1/1 [==============================] - 0s 846us/step - loss: 6.9396e-05\n",
            "Epoch 190/200\n",
            "1/1 [==============================] - 0s 3ms/step - loss: 6.7367e-05\n",
            "Epoch 191/200\n",
            "1/1 [==============================] - 0s 807us/step - loss: 6.5400e-05\n",
            "Epoch 192/200\n",
            "1/1 [==============================] - 0s 992us/step - loss: 6.3495e-05\n",
            "Epoch 193/200\n",
            "1/1 [==============================] - 0s 1ms/step - loss: 6.1638e-05\n",
            "Epoch 194/200\n",
            "1/1 [==============================] - 0s 989us/step - loss: 5.9839e-05\n",
            "Epoch 195/200\n",
            "1/1 [==============================] - 0s 961us/step - loss: 5.8097e-05\n",
            "Epoch 196/200\n",
            "1/1 [==============================] - 0s 865us/step - loss: 5.6396e-05\n",
            "Epoch 197/200\n",
            "1/1 [==============================] - 0s 3ms/step - loss: 5.4749e-05\n",
            "Epoch 198/200\n",
            "1/1 [==============================] - 0s 3ms/step - loss: 5.3156e-05\n",
            "Epoch 199/200\n",
            "1/1 [==============================] - 0s 975us/step - loss: 5.1604e-05\n",
            "Epoch 200/200\n",
            "1/1 [==============================] - 0s 890us/step - loss: 5.0095e-05\n"
          ],
          "name": "stdout"
        },
        {
          "output_type": "execute_result",
          "data": {
            "text/plain": [
              "<tensorflow.python.keras.callbacks.History at 0x7f43000e5f28>"
            ]
          },
          "metadata": {
            "tags": []
          },
          "execution_count": 4
        }
      ]
    },
    {
      "cell_type": "markdown",
      "metadata": {
        "id": "GskIy24-kcM2",
        "colab_type": "text"
      },
      "source": [
        "#Generateing a SavedModel"
      ]
    },
    {
      "cell_type": "code",
      "metadata": {
        "id": "s4KxICgskSEA",
        "colab_type": "code",
        "colab": {
          "base_uri": "https://localhost:8080/",
          "height": 156
        },
        "outputId": "36d8b87a-dc3a-4d1e-bb4c-1b5c629510d8"
      },
      "source": [
        "export_dir = 'saved_model/1'\n",
        "tf.saved_model.save(model,export_dir)"
      ],
      "execution_count": 6,
      "outputs": [
        {
          "output_type": "stream",
          "text": [
            "WARNING:tensorflow:From /usr/local/lib/python3.6/dist-packages/tensorflow/python/training/tracking/tracking.py:111: Model.state_updates (from tensorflow.python.keras.engine.training) is deprecated and will be removed in a future version.\n",
            "Instructions for updating:\n",
            "This property should not be used in TensorFlow 2.0, as updates are applied automatically.\n",
            "WARNING:tensorflow:From /usr/local/lib/python3.6/dist-packages/tensorflow/python/training/tracking/tracking.py:111: Layer.updates (from tensorflow.python.keras.engine.base_layer) is deprecated and will be removed in a future version.\n",
            "Instructions for updating:\n",
            "This property should not be used in TensorFlow 2.0, as updates are applied automatically.\n",
            "INFO:tensorflow:Assets written to: saved_model/1/assets\n"
          ],
          "name": "stdout"
        }
      ]
    },
    {
      "cell_type": "markdown",
      "metadata": {
        "id": "JWpcBqOTlS6h",
        "colab_type": "text"
      },
      "source": [
        "#Converting the SavedModel to TFlite"
      ]
    },
    {
      "cell_type": "code",
      "metadata": {
        "id": "cMzEGoU1lJD8",
        "colab_type": "code",
        "colab": {}
      },
      "source": [
        "converter = tf.lite.TFLiteConverter.from_saved_model(export_dir)\n",
        "tflite_model = converter.convert()"
      ],
      "execution_count": 8,
      "outputs": []
    },
    {
      "cell_type": "code",
      "metadata": {
        "id": "YbfAyqp2l-Ge",
        "colab_type": "code",
        "colab": {
          "base_uri": "https://localhost:8080/",
          "height": 34
        },
        "outputId": "eaa77770-25d9-466c-c6b8-0b92f5c00e56"
      },
      "source": [
        "tflite_model_file = pathlib.Path('model.tflite')\n",
        "tflite_model_file.write_bytes(tflite_model)"
      ],
      "execution_count": 9,
      "outputs": [
        {
          "output_type": "execute_result",
          "data": {
            "text/plain": [
              "764"
            ]
          },
          "metadata": {
            "tags": []
          },
          "execution_count": 9
        }
      ]
    },
    {
      "cell_type": "markdown",
      "metadata": {
        "id": "LbbMGYRbmi9W",
        "colab_type": "text"
      },
      "source": [
        "#Initialize the TFLite Interpreter To Test/Try"
      ]
    },
    {
      "cell_type": "code",
      "metadata": {
        "id": "zqRa8AZBmexI",
        "colab_type": "code",
        "colab": {}
      },
      "source": [
        "interpreter = tf.lite.Interpreter(model_content=tflite_model)\n",
        "interpreter.allocate_tensors()\n",
        "\n",
        "input_details = interpreter.get_input_details()\n",
        "output_details = interpreter.get_output_details()\n"
      ],
      "execution_count": 10,
      "outputs": []
    },
    {
      "cell_type": "code",
      "metadata": {
        "id": "UEeiRdWvnsca",
        "colab_type": "code",
        "colab": {
          "base_uri": "https://localhost:8080/",
          "height": 357
        },
        "outputId": "cc6b3527-04d7-4203-a7a1-6c57bba4eaa3"
      },
      "source": [
        "input_details , output_details\n"
      ],
      "execution_count": 15,
      "outputs": [
        {
          "output_type": "execute_result",
          "data": {
            "text/plain": [
              "([{'dtype': numpy.float32,\n",
              "   'index': 0,\n",
              "   'name': 'dense_input',\n",
              "   'quantization': (0.0, 0),\n",
              "   'quantization_parameters': {'quantized_dimension': 0,\n",
              "    'scales': array([], dtype=float32),\n",
              "    'zero_points': array([], dtype=int32)},\n",
              "   'shape': array([1, 1], dtype=int32),\n",
              "   'shape_signature': array([-1,  1], dtype=int32),\n",
              "   'sparsity_parameters': {}}],\n",
              " [{'dtype': numpy.float32,\n",
              "   'index': 3,\n",
              "   'name': 'Identity',\n",
              "   'quantization': (0.0, 0),\n",
              "   'quantization_parameters': {'quantized_dimension': 0,\n",
              "    'scales': array([], dtype=float32),\n",
              "    'zero_points': array([], dtype=int32)},\n",
              "   'shape': array([1, 1], dtype=int32),\n",
              "   'shape_signature': array([-1,  1], dtype=int32),\n",
              "   'sparsity_parameters': {}}])"
            ]
          },
          "metadata": {
            "tags": []
          },
          "execution_count": 15
        }
      ]
    },
    {
      "cell_type": "code",
      "metadata": {
        "id": "wztHwuflndhU",
        "colab_type": "code",
        "colab": {}
      },
      "source": [
        "# Test the Tensorflow-Lite model on random inout data.\n",
        "\n",
        "input_shape = input_details[0]['shape']\n",
        "inputs, outputs = [], []\n",
        "for _ in range(100):\n",
        "  input_data = np.array(np.random.random_sample(input_shape) , dtype=np.float32)\n",
        "  #The interpreter seems to have multiple tensors ar different index, so choose a tensor\n",
        "  interpreter.set_tensor(input_details[0]['index'] , input_data)\n",
        "\n",
        "  interpreter.invoke()\n",
        "  tflite_results = interpreter.get_tensor(output_details[0]['index'])\n",
        "\n",
        "  #Test the tensorflow model (AKA NOT THE TFLITE MODEL)\n",
        "  tf_result = model(tf.constant(input_data))\n",
        "  output_data = np.array(tf_result)\n",
        "\n",
        "  inputs.append(input_data[0][0])\n",
        "  outputs.append(output_data[0][0])"
      ],
      "execution_count": 17,
      "outputs": []
    },
    {
      "cell_type": "markdown",
      "metadata": {
        "id": "IJMGa4G3qpPe",
        "colab_type": "text"
      },
      "source": [
        "#Viualize the model"
      ]
    },
    {
      "cell_type": "code",
      "metadata": {
        "id": "CLp2tluJpnvr",
        "colab_type": "code",
        "colab": {
          "base_uri": "https://localhost:8080/",
          "height": 265
        },
        "outputId": "628d96f5-2667-4a1f-9300-5b85b5539edd"
      },
      "source": [
        "%matplotlib inline\n",
        "\n",
        "plt.plot(inputs, outputs, 'r')\n",
        "plt.show()"
      ],
      "execution_count": 18,
      "outputs": [
        {
          "output_type": "display_data",
          "data": {
            "image/png": "[encoded data removed]",
            "text/plain": [
              "<Figure size 432x288 with 1 Axes>"
            ]
          },
          "metadata": {
            "tags": [],
            "needs_background": "light"
          }
        }
      ]
    },
    {
      "cell_type": "markdown",
      "metadata": {
        "id": "LxkM9-gYq9gO",
        "colab_type": "text"
      },
      "source": [
        "#Downloading the file \n"
      ]
    },
    {
      "cell_type": "code",
      "metadata": {
        "id": "KxbnuYavqxnR",
        "colab_type": "code",
        "colab": {
          "base_uri": "https://localhost:8080/",
          "height": 17
        },
        "outputId": "62ecec79-1be2-4787-ab41-5911c9d49130"
      },
      "source": [
        "try:\n",
        "  from google.colab import files\n",
        "  files.download(tflite_model_file)\n",
        "except:\n",
        "  pass"
      ],
      "execution_count": 19,
      "outputs": [
        {
          "output_type": "display_data",
          "data": {
            "application/javascript": [
              "\n",
              "    async function download(id, filename, size) {\n",
              "      if (!google.colab.kernel.accessAllowed) {\n",
              "        return;\n",
              "      }\n",
              "      const div = document.createElement('div');\n",
              "      const label = document.createElement('label');\n",
              "      label.textContent = `Downloading \"${filename}\": `;\n",
              "      div.appendChild(label);\n",
              "      const progress = document.createElement('progress');\n",
              "      progress.max = size;\n",
              "      div.appendChild(progress);\n",
              "      document.body.appendChild(div);\n",
              "\n",
              "      const buffers = [];\n",
              "      let downloaded = 0;\n",
              "\n",
              "      const channel = await google.colab.kernel.comms.open(id);\n",
              "      // Send a message to notify the kernel that we're ready.\n",
              "      channel.send({})\n",
              "\n",
              "      for await (const message of channel.messages) {\n",
              "        // Send a message to notify the kernel that we're ready.\n",
              "        channel.send({})\n",
              "        if (message.buffers) {\n",
              "          for (const buffer of message.buffers) {\n",
              "            buffers.push(buffer);\n",
              "            downloaded += buffer.byteLength;\n",
              "            progress.value = downloaded;\n",
              "          }\n",
              "        }\n",
              "      }\n",
              "      const blob = new Blob(buffers, {type: 'application/binary'});\n",
              "      const a = document.createElement('a');\n",
              "      a.href = window.URL.createObjectURL(blob);\n",
              "      a.download = filename;\n",
              "      div.appendChild(a);\n",
              "      a.click();\n",
              "      div.remove();\n",
              "    }\n",
              "  "
            ],
            "text/plain": [
              "<IPython.core.display.Javascript object>"
            ]
          },
          "metadata": {
            "tags": []
          }
        },
        {
          "output_type": "display_data",
          "data": {
            "application/javascript": [
              "download(\"download_bd8412e1-6ebe-4d23-a5af-835f830ab964\", \"model.tflite\", 764)"
            ],
            "text/plain": [
              "<IPython.core.display.Javascript object>"
            ]
          },
          "metadata": {
            "tags": []
          }
        }
      ]
    },
    {
      "cell_type": "code",
      "metadata": {
        "id": "S655BeHbrLEE",
        "colab_type": "code",
        "colab": {}
      },
      "source": [
        ""
      ],
      "execution_count": null,
      "outputs": []
    }
  ]
}