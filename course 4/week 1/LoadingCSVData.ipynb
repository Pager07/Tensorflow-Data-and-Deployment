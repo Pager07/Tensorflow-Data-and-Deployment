{
  "nbformat": 4,
  "nbformat_minor": 0,
  "metadata": {
    "colab": {
      "name": "LoadingCSVData.ipynb",
      "provenance": [],
      "authorship_tag": "ABX9TyP26Jc6+mYsBm/w3WiXpgLd",
      "include_colab_link": true
    },
    "kernelspec": {
      "name": "python3",
      "display_name": "Python 3"
    }
  },
  "cells": [
    {
      "cell_type": "markdown",
      "metadata": {
        "id": "view-in-github",
        "colab_type": "text"
      },
      "source": [
        "<a href=\"https://colab.research.google.com/github/Pager07/Tensorflow-Data-and-Deployment/blob/master/course%204/week%201/LoadingCSVData.ipynb\" target=\"_parent\"><img src=\"https://colab.research.google.com/assets/colab-badge.svg\" alt=\"Open In Colab\"/></a>"
      ]
    },
    {
      "cell_type": "markdown",
      "metadata": {
        "id": "RtU4IjiDKLXq",
        "colab_type": "text"
      },
      "source": [
        "#Setup"
      ]
    },
    {
      "cell_type": "code",
      "metadata": {
        "id": "oPVkyxkBKIRB",
        "colab_type": "code",
        "colab": {}
      },
      "source": [
        "import functools\n",
        "\n",
        "import numpy as np\n",
        "import tensorflow as tf"
      ],
      "execution_count": 2,
      "outputs": []
    },
    {
      "cell_type": "code",
      "metadata": {
        "id": "qZHROr97KHKi",
        "colab_type": "code",
        "colab": {
          "base_uri": "https://localhost:8080/",
          "height": 85
        },
        "outputId": "732c9d0f-7bc6-4062-8f04-a6cb38466230"
      },
      "source": [
        "TRAIN_DATA_URL = \"https://storage.googleapis.com/tf-datasets/titanic/train.csv\"\n",
        "TEST_DATA_URL = \"https://storage.googleapis.com/tf-datasets/titanic/eval.csv\"\n",
        "\n",
        "train_file_path = tf.keras.utils.get_file(\"train.csv\", TRAIN_DATA_URL)\n",
        "test_file_path = tf.keras.utils.get_file(\"eval.csv\", TEST_DATA_URL)"
      ],
      "execution_count": 3,
      "outputs": [
        {
          "output_type": "stream",
          "text": [
            "Downloading data from https://storage.googleapis.com/tf-datasets/titanic/train.csv\n",
            "32768/30874 [===============================] - 0s 0us/step\n",
            "Downloading data from https://storage.googleapis.com/tf-datasets/titanic/eval.csv\n",
            "16384/13049 [=====================================] - 0s 0us/step\n"
          ],
          "name": "stdout"
        }
      ]
    },
    {
      "cell_type": "code",
      "metadata": {
        "id": "dL0R7l0JKK1h",
        "colab_type": "code",
        "colab": {}
      },
      "source": [
        "# Make numpy values easier to read.\n",
        "np.set_printoptions(precision=3, suppress=True)"
      ],
      "execution_count": 4,
      "outputs": []
    },
    {
      "cell_type": "markdown",
      "metadata": {
        "id": "evwb2wIsKrXl",
        "colab_type": "text"
      },
      "source": [
        "#Load data"
      ]
    },
    {
      "cell_type": "code",
      "metadata": {
        "id": "HpPVhJobKnnU",
        "colab_type": "code",
        "colab": {
          "base_uri": "https://localhost:8080/",
          "height": 187
        },
        "outputId": "69d1856e-4915-415d-b972-e675d3a5953a"
      },
      "source": [
        "#where is this function head coming from?\n",
        "!head {train_file_path}"
      ],
      "execution_count": 5,
      "outputs": [
        {
          "output_type": "stream",
          "text": [
            "survived,sex,age,n_siblings_spouses,parch,fare,class,deck,embark_town,alone\n",
            "0,male,22.0,1,0,7.25,Third,unknown,Southampton,n\n",
            "1,female,38.0,1,0,71.2833,First,C,Cherbourg,n\n",
            "1,female,26.0,0,0,7.925,Third,unknown,Southampton,y\n",
            "1,female,35.0,1,0,53.1,First,C,Southampton,n\n",
            "0,male,28.0,0,0,8.4583,Third,unknown,Queenstown,y\n",
            "0,male,2.0,3,1,21.075,Third,unknown,Southampton,n\n",
            "1,female,27.0,0,2,11.1333,Third,unknown,Southampton,n\n",
            "1,female,14.0,1,0,30.0708,Second,unknown,Cherbourg,n\n",
            "1,female,4.0,1,1,16.7,Third,G,Southampton,n\n"
          ],
          "name": "stdout"
        }
      ]
    },
    {
      "cell_type": "markdown",
      "metadata": {
        "id": "cR802ppjLgip",
        "colab_type": "text"
      },
      "source": [
        "You can load this using pandas, and pass the NumPy arrays to TensorFlow. \n",
        "- If you need to scale up to a large set of files, or need a loader that integrates with TensorFlow and tf.data then use the tf.data.experimental.make_csv_dataset function:"
      ]
    },
    {
      "cell_type": "markdown",
      "metadata": {
        "id": "j2aGws38L8yy",
        "colab_type": "text"
      },
      "source": [
        "The only column you need to identify explicitly is the one with the value that the model is intended to predict. "
      ]
    },
    {
      "cell_type": "code",
      "metadata": {
        "id": "xffrq7O0L8j-",
        "colab_type": "code",
        "colab": {}
      },
      "source": [
        "LABEL_COLUMN = 'survived'\n",
        "LABELS = [0,1]"
      ],
      "execution_count": 8,
      "outputs": []
    },
    {
      "cell_type": "code",
      "metadata": {
        "id": "8YShpta0LAUA",
        "colab_type": "code",
        "colab": {}
      },
      "source": [
        "#kwargs  means keyword argument, meaning def add(num=1, num2 =2), ** is saying that we can pass in any number of them\n",
        "# Literally tf.data.experimental.make_csv_dataset does everything for you \n",
        "def get_dataset(file_path,**kwargs):\n",
        "  dataset = tf.data.experimental.make_csv_dataset(\n",
        "      file_path,\n",
        "      batch_size=5,\n",
        "      label_name = LABEL_COLUMN,\n",
        "      na_value = '?',\n",
        "      num_epochs = 1 ,\n",
        "      ignore_errors = True,\n",
        "      **kwargs\n",
        "  )\n",
        "  return dataset\n",
        "\n",
        "raw_train_data = get_dataset(train_file_path)\n",
        "raw_test_data = get_dataset(test_file_path)\n"
      ],
      "execution_count": 11,
      "outputs": []
    },
    {
      "cell_type": "code",
      "metadata": {
        "id": "Nsi2rjHIOw4a",
        "colab_type": "code",
        "colab": {
          "base_uri": "https://localhost:8080/",
          "height": 54
        },
        "outputId": "05dc4e6d-08e4-4324-dca4-6c3244621790"
      },
      "source": [
        "raw_train_data"
      ],
      "execution_count": 12,
      "outputs": [
        {
          "output_type": "execute_result",
          "data": {
            "text/plain": [
              "<PrefetchDataset shapes: (OrderedDict([(sex, (None,)), (age, (None,)), (n_siblings_spouses, (None,)), (parch, (None,)), (fare, (None,)), (class, (None,)), (deck, (None,)), (embark_town, (None,)), (alone, (None,))]), (None,)), types: (OrderedDict([(sex, tf.string), (age, tf.float32), (n_siblings_spouses, tf.int32), (parch, tf.int32), (fare, tf.float32), (class, tf.string), (deck, tf.string), (embark_town, tf.string), (alone, tf.string)]), tf.int32)>"
            ]
          },
          "metadata": {
            "tags": []
          },
          "execution_count": 12
        }
      ]
    },
    {
      "cell_type": "markdown",
      "metadata": {
        "id": "Ir7mpsHGUHJU",
        "colab_type": "text"
      },
      "source": [
        "if you try to print what batch is, you will get the following\n",
        "\n",
        "\n"
      ]
    },
    {
      "cell_type": "markdown",
      "metadata": {
        "id": "wvsL-y0wUr6C",
        "colab_type": "text"
      },
      "source": [
        "![image.png](data:image/png;base64,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)"
      ]
    },
    {
      "cell_type": "markdown",
      "metadata": {
        "id": "oXkdu0T-VA3T",
        "colab_type": "text"
      },
      "source": [
        "It is saying the batch is a dictionary\n",
        "\n",
        "('sex', <tf.Tensor: shape=(5,), dtype=string, numpy=array([b'female', b'male', b'male', b'male', b'male'], dtype=object)>) is telling you that the feature 'sex' is that array"
      ]
    },
    {
      "cell_type": "code",
      "metadata": {
        "id": "B0MyZXO9OXlM",
        "colab_type": "code",
        "colab": {}
      },
      "source": [
        "def show_batch(dataset):\n",
        "  for batch,label in dataset.take(1):\n",
        "    for key,value in batch.items():\n",
        "      print(\"{:20s}: {}\".format(key,value.numpy()))\n"
      ],
      "execution_count": 23,
      "outputs": []
    },
    {
      "cell_type": "code",
      "metadata": {
        "id": "iPECSOFtR1gm",
        "colab_type": "code",
        "colab": {
          "base_uri": "https://localhost:8080/",
          "height": 258
        },
        "outputId": "41b591a7-ba79-412e-f9d0-151b3d3bf744"
      },
      "source": [
        "show_batch(raw_train_data)"
      ],
      "execution_count": 25,
      "outputs": [
        {
          "output_type": "stream",
          "text": [
            "OrderedDict([('sex', <tf.Tensor: shape=(5,), dtype=string, numpy=array([b'male', b'male', b'male', b'male', b'male'], dtype=object)>), ('age', <tf.Tensor: shape=(5,), dtype=float32, numpy=array([45.,  3.,  1., 21., 52.], dtype=float32)>), ('n_siblings_spouses', <tf.Tensor: shape=(5,), dtype=int32, numpy=array([0, 1, 4, 0, 0], dtype=int32)>), ('parch', <tf.Tensor: shape=(5,), dtype=int32, numpy=array([0, 1, 1, 0, 0], dtype=int32)>), ('fare', <tf.Tensor: shape=(5,), dtype=float32, numpy=array([26.55 , 18.75 , 39.688, 73.5  , 30.5  ], dtype=float32)>), ('class', <tf.Tensor: shape=(5,), dtype=string, numpy=array([b'First', b'Second', b'Third', b'Second', b'First'], dtype=object)>), ('deck', <tf.Tensor: shape=(5,), dtype=string, numpy=array([b'unknown', b'unknown', b'unknown', b'unknown', b'C'], dtype=object)>), ('embark_town', <tf.Tensor: shape=(5,), dtype=string, numpy=\n",
            "array([b'Southampton', b'Southampton', b'Southampton', b'Southampton',\n",
            "       b'Southampton'], dtype=object)>), ('alone', <tf.Tensor: shape=(5,), dtype=string, numpy=array([b'y', b'n', b'n', b'y', b'y'], dtype=object)>)])\n",
            "sex                 : [b'male' b'male' b'male' b'male' b'male']\n",
            "age                 : [45.  3.  1. 21. 52.]\n",
            "n_siblings_spouses  : [0 1 4 0 0]\n",
            "parch               : [0 1 1 0 0]\n",
            "fare                : [26.55  18.75  39.688 73.5   30.5  ]\n",
            "class               : [b'First' b'Second' b'Third' b'Second' b'First']\n",
            "deck                : [b'unknown' b'unknown' b'unknown' b'unknown' b'C']\n",
            "embark_town         : [b'Southampton' b'Southampton' b'Southampton' b'Southampton'\n",
            " b'Southampton']\n",
            "alone               : [b'y' b'n' b'n' b'y' b'y']\n"
          ],
          "name": "stdout"
        }
      ]
    },
    {
      "cell_type": "markdown",
      "metadata": {
        "colab_type": "text",
        "id": "YOYKQKmMj3D6"
      },
      "source": [
        "As you can see, the columns in the CSV are named. The dataset constructor will pick these names up automatically. If the file you are working with does not contain the column names in the first line, pass them in a list of strings to  the `column_names` argument in the `make_csv_dataset` function."
      ]
    },
    {
      "cell_type": "code",
      "metadata": {
        "id": "lKhqadwsYH40",
        "colab_type": "code",
        "colab": {
          "base_uri": "https://localhost:8080/",
          "height": 275
        },
        "outputId": "4be097fc-b012-4768-c587-aaa2fcaad7d0"
      },
      "source": [
        "CSV_COLUMNS = ['survived', 'sex', 'age', 'n_siblings_spouses', 'parch', 'fare', 'class', 'deck', 'embark_town', 'alone']\n",
        "\n",
        "temp_dataset = get_dataset(train_file_path, column_names=CSV_COLUMNS)\n",
        "\n",
        "show_batch(temp_dataset)"
      ],
      "execution_count": 26,
      "outputs": [
        {
          "output_type": "stream",
          "text": [
            "OrderedDict([('sex', <tf.Tensor: shape=(5,), dtype=string, numpy=array([b'male', b'male', b'male', b'male', b'male'], dtype=object)>), ('age', <tf.Tensor: shape=(5,), dtype=float32, numpy=array([28., 34., 28., 25., 45.], dtype=float32)>), ('n_siblings_spouses', <tf.Tensor: shape=(5,), dtype=int32, numpy=array([0, 0, 0, 0, 0], dtype=int32)>), ('parch', <tf.Tensor: shape=(5,), dtype=int32, numpy=array([0, 0, 0, 0, 0], dtype=int32)>), ('fare', <tf.Tensor: shape=(5,), dtype=float32, numpy=array([ 7.75 ,  6.496, 47.1  ,  7.05 ,  6.975], dtype=float32)>), ('class', <tf.Tensor: shape=(5,), dtype=string, numpy=array([b'Third', b'Third', b'First', b'Third', b'Third'], dtype=object)>), ('deck', <tf.Tensor: shape=(5,), dtype=string, numpy=\n",
            "array([b'unknown', b'unknown', b'unknown', b'unknown', b'unknown'],\n",
            "      dtype=object)>), ('embark_town', <tf.Tensor: shape=(5,), dtype=string, numpy=\n",
            "array([b'Queenstown', b'Southampton', b'Southampton', b'Southampton',\n",
            "       b'Southampton'], dtype=object)>), ('alone', <tf.Tensor: shape=(5,), dtype=string, numpy=array([b'y', b'y', b'y', b'y', b'y'], dtype=object)>)])\n",
            "sex                 : [b'male' b'male' b'male' b'male' b'male']\n",
            "age                 : [28. 34. 28. 25. 45.]\n",
            "n_siblings_spouses  : [0 0 0 0 0]\n",
            "parch               : [0 0 0 0 0]\n",
            "fare                : [ 7.75   6.496 47.1    7.05   6.975]\n",
            "class               : [b'Third' b'Third' b'First' b'Third' b'Third']\n",
            "deck                : [b'unknown' b'unknown' b'unknown' b'unknown' b'unknown']\n",
            "embark_town         : [b'Queenstown' b'Southampton' b'Southampton' b'Southampton' b'Southampton']\n",
            "alone               : [b'y' b'y' b'y' b'y' b'y']\n"
          ],
          "name": "stdout"
        }
      ]
    },
    {
      "cell_type": "markdown",
      "metadata": {
        "colab_type": "text",
        "id": "gZfhoX7bR9u4"
      },
      "source": [
        "This example is going to use all the available columns. If you need to omit some columns from the dataset, create a list of just the columns you plan to use, and pass it into the (optional) `select_columns` argument of the constructor.\n"
      ]
    },
    {
      "cell_type": "code",
      "metadata": {
        "id": "tyB1ubkQYOZ6",
        "colab_type": "code",
        "colab": {
          "base_uri": "https://localhost:8080/",
          "height": 139
        },
        "outputId": "8cf81c4c-5dd5-4ae6-c88f-214661ae8d7f"
      },
      "source": [
        "SELECT_COLUMNS = ['survived', 'age','n_siblings_spouses', 'class', 'deck', 'alone']\n",
        "temp_dataset = get_dataset(train_file_path, select_columns = SELECT_COLUMNS)\n",
        "show_batch(temp_dataset)"
      ],
      "execution_count": 27,
      "outputs": [
        {
          "output_type": "stream",
          "text": [
            "OrderedDict([('age', <tf.Tensor: shape=(5,), dtype=float32, numpy=array([28., 28., 17., 18., 28.], dtype=float32)>), ('n_siblings_spouses', <tf.Tensor: shape=(5,), dtype=int32, numpy=array([1, 0, 4, 0, 1], dtype=int32)>), ('class', <tf.Tensor: shape=(5,), dtype=string, numpy=array([b'Third', b'Third', b'Third', b'Second', b'First'], dtype=object)>), ('deck', <tf.Tensor: shape=(5,), dtype=string, numpy=array([b'unknown', b'unknown', b'unknown', b'unknown', b'C'], dtype=object)>), ('alone', <tf.Tensor: shape=(5,), dtype=string, numpy=array([b'n', b'y', b'n', b'n', b'n'], dtype=object)>)])\n",
            "age                 : [28. 28. 17. 18. 28.]\n",
            "n_siblings_spouses  : [1 0 4 0 1]\n",
            "class               : [b'Third' b'Third' b'Third' b'Second' b'First']\n",
            "deck                : [b'unknown' b'unknown' b'unknown' b'unknown' b'C']\n",
            "alone               : [b'n' b'y' b'n' b'n' b'n']\n"
          ],
          "name": "stdout"
        }
      ]
    },
    {
      "cell_type": "markdown",
      "metadata": {
        "id": "dF6y81yIYz88",
        "colab_type": "text"
      },
      "source": [
        "#Data preprocessing"
      ]
    },
    {
      "cell_type": "markdown",
      "metadata": {
        "colab_type": "text",
        "id": "Xl0Q0DcfA_rt"
      },
      "source": [
        "If your data is already in an appropriate numeric format, you can pack the data into a vector before passing it off to the model:"
      ]
    },
    {
      "cell_type": "code",
      "metadata": {
        "id": "ddrcsfrGZHsG",
        "colab_type": "code",
        "colab": {
          "base_uri": "https://localhost:8080/",
          "height": 122
        },
        "outputId": "7b0bd74f-565e-4e15-a012-33cb147ebf81"
      },
      "source": [
        "#'survived is the label column so you want it to be an int'\n",
        "SELECT_COLUMNS = ['survived', 'age', 'n_siblings_spouses', 'parch', 'fare']\n",
        "DEFAULTS = [0, 0.0, 0.0, 0.0, 0.0]\n",
        "temp_dataset = get_dataset(train_file_path, \n",
        "                           select_columns=SELECT_COLUMNS,\n",
        "                           column_defaults = DEFAULTS)\n",
        "\n",
        "show_batch(temp_dataset)"
      ],
      "execution_count": 45,
      "outputs": [
        {
          "output_type": "stream",
          "text": [
            "OrderedDict([('age', <tf.Tensor: shape=(5,), dtype=float32, numpy=array([51., 27., 34., 40., 36.], dtype=float32)>), ('n_siblings_spouses', <tf.Tensor: shape=(5,), dtype=float32, numpy=array([0., 0., 0., 0., 0.], dtype=float32)>), ('parch', <tf.Tensor: shape=(5,), dtype=float32, numpy=array([0., 0., 0., 0., 0.], dtype=float32)>), ('fare', <tf.Tensor: shape=(5,), dtype=float32, numpy=array([ 8.05, 10.5 , 13.  ,  0.  , 10.5 ], dtype=float32)>)])\n",
            "age                 : [51. 27. 34. 40. 36.]\n",
            "n_siblings_spouses  : [0. 0. 0. 0. 0.]\n",
            "parch               : [0. 0. 0. 0. 0.]\n",
            "fare                : [ 8.05 10.5  13.    0.   10.5 ]\n"
          ],
          "name": "stdout"
        }
      ]
    },
    {
      "cell_type": "code",
      "metadata": {
        "id": "G2r78z4wZgU7",
        "colab_type": "code",
        "colab": {}
      },
      "source": [
        "example_batch, labels_batch = next(iter(temp_dataset)) "
      ],
      "execution_count": 46,
      "outputs": []
    },
    {
      "cell_type": "markdown",
      "metadata": {
        "id": "LwdiGzJSqcqu",
        "colab_type": "text"
      },
      "source": [
        "![image.png](data:image/png;base64,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)"
      ]
    },
    {
      "cell_type": "code",
      "metadata": {
        "id": "2I0rjNHbazlC",
        "colab_type": "code",
        "colab": {}
      },
      "source": [
        "def pack(features, label):\n",
        "  #Takes in a batch, which is a tuple. \n",
        "  # How do I know this? look at the above cell \n",
        "  #stack is asking, what do you want you row's to be??\n",
        "  return tf.stack(list(features.values()), axis=-1),label"
      ],
      "execution_count": 75,
      "outputs": []
    },
    {
      "cell_type": "code",
      "metadata": {
        "id": "RD4ZJYB3b-y8",
        "colab_type": "code",
        "colab": {
          "base_uri": "https://localhost:8080/",
          "height": 153
        },
        "outputId": "04a5739d-102d-41bc-81b9-c9cc113c6c50"
      },
      "source": [
        "packed_dataset = temp_dataset.map(pack)\n",
        "for features, labels in packed_dataset.take(1):\n",
        "  print(features.numpy())\n",
        "  print(features.numpy().shape)\n",
        "  print()\n",
        "  print(labels.numpy())"
      ],
      "execution_count": 74,
      "outputs": [
        {
          "output_type": "stream",
          "text": [
            "[[34.     0.     0.    13.   ]\n",
            " [28.     0.     0.    30.696]\n",
            " [31.     1.     1.    37.004]\n",
            " [28.     0.     0.     7.75 ]\n",
            " [28.     0.     0.    29.7  ]]\n",
            "(5, 4)\n",
            "\n",
            "[0 0 0 1 1]\n"
          ],
          "name": "stdout"
        }
      ]
    },
    {
      "cell_type": "markdown",
      "metadata": {
        "colab_type": "text",
        "id": "1VBvmaFrFU6J"
      },
      "source": [
        "If you have mixed datatypes you may want to separate out these simple-numeric fields. The `tf.feature_column` api can handle them, but this incurs some overhead and should be avoided unless really necessary. Switch back to the mixed dataset:"
      ]
    },
    {
      "cell_type": "code",
      "metadata": {
        "id": "C5UggIq0rWMk",
        "colab_type": "code",
        "colab": {
          "base_uri": "https://localhost:8080/",
          "height": 275
        },
        "outputId": "c82ce8c6-a2d3-4808-e1f5-befe6e39d386"
      },
      "source": [
        "show_batch(raw_train_data)"
      ],
      "execution_count": 89,
      "outputs": [
        {
          "output_type": "stream",
          "text": [
            "OrderedDict([('sex', <tf.Tensor: shape=(5,), dtype=string, numpy=array([b'male', b'male', b'female', b'male', b'male'], dtype=object)>), ('age', <tf.Tensor: shape=(5,), dtype=float32, numpy=array([34.5, 28. , 14. , 28. , 19. ], dtype=float32)>), ('n_siblings_spouses', <tf.Tensor: shape=(5,), dtype=int32, numpy=array([0, 0, 1, 0, 0], dtype=int32)>), ('parch', <tf.Tensor: shape=(5,), dtype=int32, numpy=array([0, 0, 0, 0, 0], dtype=int32)>), ('fare', <tf.Tensor: shape=(5,), dtype=float32, numpy=array([ 6.438,  6.858, 30.071, 30.696,  7.775], dtype=float32)>), ('class', <tf.Tensor: shape=(5,), dtype=string, numpy=array([b'Third', b'Third', b'Second', b'First', b'Third'], dtype=object)>), ('deck', <tf.Tensor: shape=(5,), dtype=string, numpy=\n",
            "array([b'unknown', b'unknown', b'unknown', b'unknown', b'unknown'],\n",
            "      dtype=object)>), ('embark_town', <tf.Tensor: shape=(5,), dtype=string, numpy=\n",
            "array([b'Cherbourg', b'Queenstown', b'Cherbourg', b'Cherbourg',\n",
            "       b'Southampton'], dtype=object)>), ('alone', <tf.Tensor: shape=(5,), dtype=string, numpy=array([b'y', b'y', b'n', b'y', b'y'], dtype=object)>)])\n",
            "sex                 : [b'male' b'male' b'female' b'male' b'male']\n",
            "age                 : [34.5 28.  14.  28.  19. ]\n",
            "n_siblings_spouses  : [0 0 1 0 0]\n",
            "parch               : [0 0 0 0 0]\n",
            "fare                : [ 6.438  6.858 30.071 30.696  7.775]\n",
            "class               : [b'Third' b'Third' b'Second' b'First' b'Third']\n",
            "deck                : [b'unknown' b'unknown' b'unknown' b'unknown' b'unknown']\n",
            "embark_town         : [b'Cherbourg' b'Queenstown' b'Cherbourg' b'Cherbourg' b'Southampton']\n",
            "alone               : [b'y' b'y' b'n' b'y' b'y']\n"
          ],
          "name": "stdout"
        }
      ]
    },
    {
      "cell_type": "code",
      "metadata": {
        "id": "iy5iezTNrWpi",
        "colab_type": "code",
        "colab": {}
      },
      "source": [
        "example_batch, labels_batch = next(iter(temp_dataset)) "
      ],
      "execution_count": null,
      "outputs": []
    },
    {
      "cell_type": "markdown",
      "metadata": {
        "colab_type": "text",
        "id": "p5VtThKfGPaQ"
      },
      "source": [
        "So define a more general preprocessor that selects a list of numeric features and packs them into a single column:"
      ]
    },
    {
      "cell_type": "code",
      "metadata": {
        "id": "h6iWa8T8rmI4",
        "colab_type": "code",
        "colab": {}
      },
      "source": [
        "class PackNumericFeatures(object):\n",
        "  def __init__(self, names):\n",
        "    self.names = names\n",
        "\n",
        "  def __call__(self, features, labels):\n",
        "    numeric_features = [features.pop(name) for name in self.names]\n",
        "    numeric_features = [tf.cast(feat, tf.float32) for feat in numeric_features]\n",
        "    numeric_features = tf.stack(numeric_features, axis=-1)\n",
        "    features['numeric'] = numeric_features\n",
        "\n",
        "    return features, labels"
      ],
      "execution_count": 92,
      "outputs": []
    },
    {
      "cell_type": "code",
      "metadata": {
        "id": "egO6Ranorx2M",
        "colab_type": "code",
        "colab": {}
      },
      "source": [
        "NUMERIC_FEATURES = ['age','n_siblings_spouses','parch', 'fare']\n",
        "\n",
        "packed_train_data = raw_train_data.map(\n",
        "    PackNumericFeatures(NUMERIC_FEATURES))\n",
        "\n",
        "packed_test_data = raw_test_data.map(\n",
        "    PackNumericFeatures(NUMERIC_FEATURES))"
      ],
      "execution_count": 93,
      "outputs": []
    },
    {
      "cell_type": "code",
      "metadata": {
        "id": "Gu5EACL3ryFV",
        "colab_type": "code",
        "colab": {
          "base_uri": "https://localhost:8080/",
          "height": 377
        },
        "outputId": "0c978885-d96c-440d-9401-083889a2e25f"
      },
      "source": [
        "show_batch(packed_train_data)"
      ],
      "execution_count": 94,
      "outputs": [
        {
          "output_type": "stream",
          "text": [
            "OrderedDict([('sex', <tf.Tensor: shape=(5,), dtype=string, numpy=array([b'male', b'male', b'female', b'male', b'female'], dtype=object)>), ('class', <tf.Tensor: shape=(5,), dtype=string, numpy=array([b'Third', b'Third', b'First', b'Second', b'Third'], dtype=object)>), ('deck', <tf.Tensor: shape=(5,), dtype=string, numpy=\n",
            "array([b'unknown', b'unknown', b'unknown', b'unknown', b'unknown'],\n",
            "      dtype=object)>), ('embark_town', <tf.Tensor: shape=(5,), dtype=string, numpy=\n",
            "array([b'Southampton', b'Southampton', b'Southampton', b'Southampton',\n",
            "       b'Queenstown'], dtype=object)>), ('alone', <tf.Tensor: shape=(5,), dtype=string, numpy=array([b'y', b'y', b'y', b'y', b'y'], dtype=object)>), ('numeric', <tf.Tensor: shape=(5, 4), dtype=float32, numpy=\n",
            "array([[51.   ,  0.   ,  0.   ,  8.05 ],\n",
            "       [55.5  ,  0.   ,  0.   ,  8.05 ],\n",
            "       [26.   ,  0.   ,  0.   , 78.85 ],\n",
            "       [39.   ,  0.   ,  0.   , 13.   ],\n",
            "       [28.   ,  0.   ,  0.   ,  7.733]], dtype=float32)>)])\n",
            "sex                 : [b'male' b'male' b'female' b'male' b'female']\n",
            "class               : [b'Third' b'Third' b'First' b'Second' b'Third']\n",
            "deck                : [b'unknown' b'unknown' b'unknown' b'unknown' b'unknown']\n",
            "embark_town         : [b'Southampton' b'Southampton' b'Southampton' b'Southampton' b'Queenstown']\n",
            "alone               : [b'y' b'y' b'y' b'y' b'y']\n",
            "numeric             : [[51.     0.     0.     8.05 ]\n",
            " [55.5    0.     0.     8.05 ]\n",
            " [26.     0.     0.    78.85 ]\n",
            " [39.     0.     0.    13.   ]\n",
            " [28.     0.     0.     7.733]]\n"
          ],
          "name": "stdout"
        }
      ]
    },
    {
      "cell_type": "markdown",
      "metadata": {
        "id": "QeLrn71dsTK1",
        "colab_type": "text"
      },
      "source": [
        "#Data Normalization"
      ]
    },
    {
      "cell_type": "code",
      "metadata": {
        "id": "-DJTiuyvr1Eh",
        "colab_type": "code",
        "colab": {
          "base_uri": "https://localhost:8080/",
          "height": 297
        },
        "outputId": "25218d1a-b135-464f-b6e9-8589d152f5b4"
      },
      "source": [
        "import pandas as pd\n",
        "desc = pd.read_csv(train_file_path)[NUMERIC_FEATURES].describe()\n",
        "desc\n"
      ],
      "execution_count": 95,
      "outputs": [
        {
          "output_type": "execute_result",
          "data": {
            "text/html": [
              "<div>\n",
              "<style scoped>\n",
              "    .dataframe tbody tr th:only-of-type {\n",
              "        vertical-align: middle;\n",
              "    }\n",
              "\n",
              "    .dataframe tbody tr th {\n",
              "        vertical-align: top;\n",
              "    }\n",
              "\n",
              "    .dataframe thead th {\n",
              "        text-align: right;\n",
              "    }\n",
              "</style>\n",
              "<table border=\"1\" class=\"dataframe\">\n",
              "  <thead>\n",
              "    <tr style=\"text-align: right;\">\n",
              "      <th></th>\n",
              "      <th>age</th>\n",
              "      <th>n_siblings_spouses</th>\n",
              "      <th>parch</th>\n",
              "      <th>fare</th>\n",
              "    </tr>\n",
              "  </thead>\n",
              "  <tbody>\n",
              "    <tr>\n",
              "      <th>count</th>\n",
              "      <td>627.000000</td>\n",
              "      <td>627.000000</td>\n",
              "      <td>627.000000</td>\n",
              "      <td>627.000000</td>\n",
              "    </tr>\n",
              "    <tr>\n",
              "      <th>mean</th>\n",
              "      <td>29.631308</td>\n",
              "      <td>0.545455</td>\n",
              "      <td>0.379585</td>\n",
              "      <td>34.385399</td>\n",
              "    </tr>\n",
              "    <tr>\n",
              "      <th>std</th>\n",
              "      <td>12.511818</td>\n",
              "      <td>1.151090</td>\n",
              "      <td>0.792999</td>\n",
              "      <td>54.597730</td>\n",
              "    </tr>\n",
              "    <tr>\n",
              "      <th>min</th>\n",
              "      <td>0.750000</td>\n",
              "      <td>0.000000</td>\n",
              "      <td>0.000000</td>\n",
              "      <td>0.000000</td>\n",
              "    </tr>\n",
              "    <tr>\n",
              "      <th>25%</th>\n",
              "      <td>23.000000</td>\n",
              "      <td>0.000000</td>\n",
              "      <td>0.000000</td>\n",
              "      <td>7.895800</td>\n",
              "    </tr>\n",
              "    <tr>\n",
              "      <th>50%</th>\n",
              "      <td>28.000000</td>\n",
              "      <td>0.000000</td>\n",
              "      <td>0.000000</td>\n",
              "      <td>15.045800</td>\n",
              "    </tr>\n",
              "    <tr>\n",
              "      <th>75%</th>\n",
              "      <td>35.000000</td>\n",
              "      <td>1.000000</td>\n",
              "      <td>0.000000</td>\n",
              "      <td>31.387500</td>\n",
              "    </tr>\n",
              "    <tr>\n",
              "      <th>max</th>\n",
              "      <td>80.000000</td>\n",
              "      <td>8.000000</td>\n",
              "      <td>5.000000</td>\n",
              "      <td>512.329200</td>\n",
              "    </tr>\n",
              "  </tbody>\n",
              "</table>\n",
              "</div>"
            ],
            "text/plain": [
              "              age  n_siblings_spouses       parch        fare\n",
              "count  627.000000          627.000000  627.000000  627.000000\n",
              "mean    29.631308            0.545455    0.379585   34.385399\n",
              "std     12.511818            1.151090    0.792999   54.597730\n",
              "min      0.750000            0.000000    0.000000    0.000000\n",
              "25%     23.000000            0.000000    0.000000    7.895800\n",
              "50%     28.000000            0.000000    0.000000   15.045800\n",
              "75%     35.000000            1.000000    0.000000   31.387500\n",
              "max     80.000000            8.000000    5.000000  512.329200"
            ]
          },
          "metadata": {
            "tags": []
          },
          "execution_count": 95
        }
      ]
    },
    {
      "cell_type": "code",
      "metadata": {
        "id": "JWK2X0opsvjJ",
        "colab_type": "code",
        "colab": {}
      },
      "source": [
        "MEAN = np.array(desc.T['mean'])\n",
        "STD = np.array(desc.T['std'])"
      ],
      "execution_count": 97,
      "outputs": []
    },
    {
      "cell_type": "code",
      "metadata": {
        "id": "jJ0mGu2gsyEE",
        "colab_type": "code",
        "colab": {}
      },
      "source": [
        "def normalize_numeric_data(data, mean, std):\n",
        "  # Center the data\n",
        "  return (data-mean)/std\n"
      ],
      "execution_count": 98,
      "outputs": []
    },
    {
      "cell_type": "markdown",
      "metadata": {
        "colab_type": "text",
        "id": "VPsoMUgRCpUM"
      },
      "source": [
        "Now create a numeric column. The `tf.feature_columns.numeric_column` API accepts a `normalizer_fn` argument, which will be run on each batch.\n",
        "\n",
        "Bind the `MEAN` and `STD` to the normalizer fn using [`functools.partial`](https://docs.python.org/3/library/functools.html#functools.partial)."
      ]
    },
    {
      "cell_type": "code",
      "metadata": {
        "id": "ZQK46-mWuaHt",
        "colab_type": "code",
        "colab": {
          "base_uri": "https://localhost:8080/",
          "height": 54
        },
        "outputId": "6f2ff3e4-dd64-41a6-f132-d51374e2e053"
      },
      "source": [
        "#This is a partial fuction where it's arguments mean and std is set but data is not \n",
        "normalizer = functools.partial(normalize_numeric_data, mean=MEAN, std=STD)\n",
        "\n",
        "numeric_column = tf.feature_column.numeric_column('numeric', normalizer_fn=normalizer, shape=[len(NUMERIC_FEATURES)])\n",
        "numeric_columns = [numeric_column]\n",
        "numeric_column"
      ],
      "execution_count": 103,
      "outputs": [
        {
          "output_type": "execute_result",
          "data": {
            "text/plain": [
              "NumericColumn(key='numeric', shape=(4,), default_value=None, dtype=tf.float32, normalizer_fn=functools.partial(<function normalize_numeric_data at 0x7fa4a755dc80>, mean=array([29.631,  0.545,  0.38 , 34.385]), std=array([12.512,  1.151,  0.793, 54.598])))"
            ]
          },
          "metadata": {
            "tags": []
          },
          "execution_count": 103
        }
      ]
    },
    {
      "cell_type": "code",
      "metadata": {
        "id": "Ii7EKjzVujZY",
        "colab_type": "code",
        "colab": {
          "base_uri": "https://localhost:8080/",
          "height": 164
        },
        "outputId": "8d399004-ad7d-45c8-f5c8-a266b7340fc5"
      },
      "source": [
        "example_batch['numeric']"
      ],
      "execution_count": 104,
      "outputs": [
        {
          "output_type": "error",
          "ename": "KeyError",
          "evalue": "ignored",
          "traceback": [
            "\u001b[0;31m---------------------------------------------------------------------------\u001b[0m",
            "\u001b[0;31mKeyError\u001b[0m                                  Traceback (most recent call last)",
            "\u001b[0;32m<ipython-input-104-3b2a193730c9>\u001b[0m in \u001b[0;36m<module>\u001b[0;34m()\u001b[0m\n\u001b[0;32m----> 1\u001b[0;31m \u001b[0mexample_batch\u001b[0m\u001b[0;34m[\u001b[0m\u001b[0;34m'numeric'\u001b[0m\u001b[0;34m]\u001b[0m\u001b[0;34m\u001b[0m\u001b[0;34m\u001b[0m\u001b[0m\n\u001b[0m",
            "\u001b[0;31mKeyError\u001b[0m: 'numeric'"
          ]
        }
      ]
    },
    {
      "cell_type": "code",
      "metadata": {
        "id": "wOoVe2JkuwPW",
        "colab_type": "code",
        "colab": {
          "base_uri": "https://localhost:8080/",
          "height": 153
        },
        "outputId": "0360874b-919c-405a-df6b-c44ea9aa1d35"
      },
      "source": [
        "example_batch"
      ],
      "execution_count": 105,
      "outputs": [
        {
          "output_type": "execute_result",
          "data": {
            "text/plain": [
              "OrderedDict([('age',\n",
              "              <tf.Tensor: shape=(5,), dtype=float32, numpy=array([28., 28.,  5., 44., 28.], dtype=float32)>),\n",
              "             ('n_siblings_spouses',\n",
              "              <tf.Tensor: shape=(5,), dtype=float32, numpy=array([1., 8., 2., 2., 0.], dtype=float32)>),\n",
              "             ('parch',\n",
              "              <tf.Tensor: shape=(5,), dtype=float32, numpy=array([0., 2., 1., 0., 0.], dtype=float32)>),\n",
              "             ('fare',\n",
              "              <tf.Tensor: shape=(5,), dtype=float32, numpy=array([15.5  , 69.55 , 19.258, 90.   ,  7.75 ], dtype=float32)>)])"
            ]
          },
          "metadata": {
            "tags": []
          },
          "execution_count": 105
        }
      ]
    },
    {
      "cell_type": "code",
      "metadata": {
        "id": "_Uj9-930u3Dr",
        "colab_type": "code",
        "colab": {}
      },
      "source": [
        ""
      ],
      "execution_count": null,
      "outputs": []
    }
  ]
}