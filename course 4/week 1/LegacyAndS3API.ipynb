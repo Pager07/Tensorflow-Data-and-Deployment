{
  "nbformat": 4,
  "nbformat_minor": 0,
  "metadata": {
    "colab": {
      "name": "LegacyAndS3API.ipynb",
      "provenance": [],
      "authorship_tag": "ABX9TyOtNPFMoFF1AflqD/h2d2Xk",
      "include_colab_link": true
    },
    "kernelspec": {
      "name": "python3",
      "display_name": "Python 3"
    },
    "widgets": {
      "application/vnd.jupyter.widget-state+json": {
        "1911e957b97747ffbcea936f349836af": {
          "model_module": "@jupyter-widgets/controls",
          "model_name": "HBoxModel",
          "state": {
            "_view_name": "HBoxView",
            "_dom_classes": [],
            "_model_name": "HBoxModel",
            "_view_module": "@jupyter-widgets/controls",
            "_model_module_version": "1.5.0",
            "_view_count": null,
            "_view_module_version": "1.5.0",
            "box_style": "",
            "layout": "IPY_MODEL_a1209e15f47e41b4881208ae408ea97e",
            "_model_module": "@jupyter-widgets/controls",
            "children": [
              "IPY_MODEL_7e2115d9044e4de4bb9950843eb6139c",
              "IPY_MODEL_099c73079e0f4c0eb8ad5caec61bb9a3"
            ]
          }
        },
        "a1209e15f47e41b4881208ae408ea97e": {
          "model_module": "@jupyter-widgets/base",
          "model_name": "LayoutModel",
          "state": {
            "_view_name": "LayoutView",
            "grid_template_rows": null,
            "right": null,
            "justify_content": null,
            "_view_module": "@jupyter-widgets/base",
            "overflow": null,
            "_model_module_version": "1.2.0",
            "_view_count": null,
            "flex_flow": null,
            "width": null,
            "min_width": null,
            "border": null,
            "align_items": null,
            "bottom": null,
            "_model_module": "@jupyter-widgets/base",
            "top": null,
            "grid_column": null,
            "overflow_y": null,
            "overflow_x": null,
            "grid_auto_flow": null,
            "grid_area": null,
            "grid_template_columns": null,
            "flex": null,
            "_model_name": "LayoutModel",
            "justify_items": null,
            "grid_row": null,
            "max_height": null,
            "align_content": null,
            "visibility": null,
            "align_self": null,
            "height": null,
            "min_height": null,
            "padding": null,
            "grid_auto_rows": null,
            "grid_gap": null,
            "max_width": null,
            "order": null,
            "_view_module_version": "1.2.0",
            "grid_template_areas": null,
            "object_position": null,
            "object_fit": null,
            "grid_auto_columns": null,
            "margin": null,
            "display": null,
            "left": null
          }
        },
        "7e2115d9044e4de4bb9950843eb6139c": {
          "model_module": "@jupyter-widgets/controls",
          "model_name": "FloatProgressModel",
          "state": {
            "_view_name": "ProgressView",
            "style": "IPY_MODEL_b17dab4600fa463c87033511b9f79424",
            "_dom_classes": [],
            "description": "Dl Completed...: 100%",
            "_model_name": "FloatProgressModel",
            "bar_style": "success",
            "max": 13,
            "_view_module": "@jupyter-widgets/controls",
            "_model_module_version": "1.5.0",
            "value": 13,
            "_view_count": null,
            "_view_module_version": "1.5.0",
            "orientation": "horizontal",
            "min": 0,
            "description_tooltip": null,
            "_model_module": "@jupyter-widgets/controls",
            "layout": "IPY_MODEL_3a536211812a427aa36105f54f7f3f46"
          }
        },
        "099c73079e0f4c0eb8ad5caec61bb9a3": {
          "model_module": "@jupyter-widgets/controls",
          "model_name": "HTMLModel",
          "state": {
            "_view_name": "HTMLView",
            "style": "IPY_MODEL_5dbff8d3ed93411491a071fe9d4b4c69",
            "_dom_classes": [],
            "description": "",
            "_model_name": "HTMLModel",
            "placeholder": "​",
            "_view_module": "@jupyter-widgets/controls",
            "_model_module_version": "1.5.0",
            "value": " 13/13 [00:00&lt;00:00, 14.36 file/s]",
            "_view_count": null,
            "_view_module_version": "1.5.0",
            "description_tooltip": null,
            "_model_module": "@jupyter-widgets/controls",
            "layout": "IPY_MODEL_490484bc2cf34759af0e3911ce5b0440"
          }
        },
        "b17dab4600fa463c87033511b9f79424": {
          "model_module": "@jupyter-widgets/controls",
          "model_name": "ProgressStyleModel",
          "state": {
            "_view_name": "StyleView",
            "_model_name": "ProgressStyleModel",
            "description_width": "initial",
            "_view_module": "@jupyter-widgets/base",
            "_model_module_version": "1.5.0",
            "_view_count": null,
            "_view_module_version": "1.2.0",
            "bar_color": null,
            "_model_module": "@jupyter-widgets/controls"
          }
        },
        "3a536211812a427aa36105f54f7f3f46": {
          "model_module": "@jupyter-widgets/base",
          "model_name": "LayoutModel",
          "state": {
            "_view_name": "LayoutView",
            "grid_template_rows": null,
            "right": null,
            "justify_content": null,
            "_view_module": "@jupyter-widgets/base",
            "overflow": null,
            "_model_module_version": "1.2.0",
            "_view_count": null,
            "flex_flow": null,
            "width": null,
            "min_width": null,
            "border": null,
            "align_items": null,
            "bottom": null,
            "_model_module": "@jupyter-widgets/base",
            "top": null,
            "grid_column": null,
            "overflow_y": null,
            "overflow_x": null,
            "grid_auto_flow": null,
            "grid_area": null,
            "grid_template_columns": null,
            "flex": null,
            "_model_name": "LayoutModel",
            "justify_items": null,
            "grid_row": null,
            "max_height": null,
            "align_content": null,
            "visibility": null,
            "align_self": null,
            "height": null,
            "min_height": null,
            "padding": null,
            "grid_auto_rows": null,
            "grid_gap": null,
            "max_width": null,
            "order": null,
            "_view_module_version": "1.2.0",
            "grid_template_areas": null,
            "object_position": null,
            "object_fit": null,
            "grid_auto_columns": null,
            "margin": null,
            "display": null,
            "left": null
          }
        },
        "5dbff8d3ed93411491a071fe9d4b4c69": {
          "model_module": "@jupyter-widgets/controls",
          "model_name": "DescriptionStyleModel",
          "state": {
            "_view_name": "StyleView",
            "_model_name": "DescriptionStyleModel",
            "description_width": "",
            "_view_module": "@jupyter-widgets/base",
            "_model_module_version": "1.5.0",
            "_view_count": null,
            "_view_module_version": "1.2.0",
            "_model_module": "@jupyter-widgets/controls"
          }
        },
        "490484bc2cf34759af0e3911ce5b0440": {
          "model_module": "@jupyter-widgets/base",
          "model_name": "LayoutModel",
          "state": {
            "_view_name": "LayoutView",
            "grid_template_rows": null,
            "right": null,
            "justify_content": null,
            "_view_module": "@jupyter-widgets/base",
            "overflow": null,
            "_model_module_version": "1.2.0",
            "_view_count": null,
            "flex_flow": null,
            "width": null,
            "min_width": null,
            "border": null,
            "align_items": null,
            "bottom": null,
            "_model_module": "@jupyter-widgets/base",
            "top": null,
            "grid_column": null,
            "overflow_y": null,
            "overflow_x": null,
            "grid_auto_flow": null,
            "grid_area": null,
            "grid_template_columns": null,
            "flex": null,
            "_model_name": "LayoutModel",
            "justify_items": null,
            "grid_row": null,
            "max_height": null,
            "align_content": null,
            "visibility": null,
            "align_self": null,
            "height": null,
            "min_height": null,
            "padding": null,
            "grid_auto_rows": null,
            "grid_gap": null,
            "max_width": null,
            "order": null,
            "_view_module_version": "1.2.0",
            "grid_template_areas": null,
            "object_position": null,
            "object_fit": null,
            "grid_auto_columns": null,
            "margin": null,
            "display": null,
            "left": null
          }
        }
      }
    }
  },
  "cells": [
    {
      "cell_type": "markdown",
      "metadata": {
        "id": "view-in-github",
        "colab_type": "text"
      },
      "source": [
        "<a href=\"https://colab.research.google.com/github/Pager07/Tensorflow-Data-and-Deployment/blob/master/course%204/week%201/LegacyAndS3API.ipynb\" target=\"_parent\"><img src=\"https://colab.research.google.com/assets/colab-badge.svg\" alt=\"Open In Colab\"/></a>"
      ]
    },
    {
      "cell_type": "code",
      "metadata": {
        "id": "MWrbfoDzHKIL",
        "colab_type": "code",
        "colab": {
          "base_uri": "https://localhost:8080/",
          "height": 34
        },
        "outputId": "cb68b4ef-3381-43c4-b609-f1da41212b6c"
      },
      "source": [
        "import tensorflow as tf\n",
        "import tensorflow_datasets as tfds\n",
        "print('Using TF version:' , tf.__version__)"
      ],
      "execution_count": 2,
      "outputs": [
        {
          "output_type": "stream",
          "text": [
            "Using TF version: 2.3.0\n"
          ],
          "name": "stdout"
        }
      ]
    },
    {
      "cell_type": "markdown",
      "metadata": {
        "id": "uqh0SDeCHtHT",
        "colab_type": "text"
      },
      "source": [
        "#Merging Splits with Legacy API"
      ]
    },
    {
      "cell_type": "code",
      "metadata": {
        "id": "7IHjO2i7HZ4N",
        "colab_type": "code",
        "colab": {
          "base_uri": "https://localhost:8080/",
          "height": 256,
          "referenced_widgets": [
            "1911e957b97747ffbcea936f349836af",
            "a1209e15f47e41b4881208ae408ea97e",
            "7e2115d9044e4de4bb9950843eb6139c",
            "099c73079e0f4c0eb8ad5caec61bb9a3",
            "b17dab4600fa463c87033511b9f79424",
            "3a536211812a427aa36105f54f7f3f46",
            "5dbff8d3ed93411491a071fe9d4b4c69",
            "490484bc2cf34759af0e3911ce5b0440"
          ]
        },
        "outputId": "8f019258-79cb-4ac0-fc22-323ff3a2a485"
      },
      "source": [
        "all_splits = tfds.Split.TRAIN + tfds.Split.TEST\n",
        "\n",
        "ds = tfds.load(\"mnist:1.*.*\", split=all_splits)\n",
        "\n",
        "print(\"Number of Records: {:,}\".format(len(list(ds))))\n"
      ],
      "execution_count": 5,
      "outputs": [
        {
          "output_type": "stream",
          "text": [
            "WARNING:absl:Found a different version 3.0.0 of dataset mnist in data_dir /root/tensorflow_datasets. Using currently defined version 1.0.0.\n",
            "WARNING:absl:Dataset mnist is hosted on GCS. It will automatically be downloaded to your\n",
            "local data directory. If you'd instead prefer to read directly from our public\n",
            "GCS bucket (recommended if you're running on GCP), you can instead set\n",
            "data_dir=gs://tfds-data/datasets.\n",
            "\n"
          ],
          "name": "stderr"
        },
        {
          "output_type": "stream",
          "text": [
            "\u001b[1mDownloading and preparing dataset mnist/1.0.0 (download: 11.06 MiB, generated: Unknown size, total: 11.06 MiB) to /root/tensorflow_datasets/mnist/1.0.0...\u001b[0m\n"
          ],
          "name": "stdout"
        },
        {
          "output_type": "display_data",
          "data": {
            "application/vnd.jupyter.widget-view+json": {
              "model_id": "1911e957b97747ffbcea936f349836af",
              "version_minor": 0,
              "version_major": 2
            },
            "text/plain": [
              "HBox(children=(FloatProgress(value=0.0, description='Dl Completed...', max=13.0, style=ProgressStyle(descripti…"
            ]
          },
          "metadata": {
            "tags": []
          }
        },
        {
          "output_type": "stream",
          "text": [
            "\n",
            "\n",
            "\u001b[1mDataset mnist downloaded and prepared to /root/tensorflow_datasets/mnist/1.0.0. Subsequent calls will reuse this data.\u001b[0m\n",
            "Number of Records: 70,000\n"
          ],
          "name": "stdout"
        }
      ]
    },
    {
      "cell_type": "markdown",
      "metadata": {
        "id": "PNO8xw6VKUvc",
        "colab_type": "text"
      },
      "source": [
        "With the Legacy API, we can use the subsplit method to divide the datasets. In the example below, we divide the training set into four splits by specifying the number of subsplits, with the argument k=4."
      ]
    },
    {
      "cell_type": "code",
      "metadata": {
        "id": "L9YXLmhUIqjP",
        "colab_type": "code",
        "colab": {
          "base_uri": "https://localhost:8080/",
          "height": 173
        },
        "outputId": "b117cd75-8232-4dc8-e84e-c03132d4a158"
      },
      "source": [
        "s1 ,s2 , s3 , s4 = tfds.Split.TRAIN.subsplit(k=4)\n",
        "\n",
        "dataset_split_1 = tfds.load('mnist:1.*.*', split=s1)\n",
        "dataset_split_2 = tfds.load('mnist:1.*.*', split=s2)\n",
        "dataset_split_3 = tfds.load('mnist:1.*.*', split=s3)\n",
        "dataset_split_4 = tfds.load('mnist:1.*.*', split=s4)\n",
        "\n",
        "print(len(list(dataset_split_1)))\n",
        "print(len(list(dataset_split_2)))\n",
        "print(len(list(dataset_split_3)))\n",
        "print(len(list(dataset_split_4)))\n",
        "\n"
      ],
      "execution_count": 9,
      "outputs": [
        {
          "output_type": "stream",
          "text": [
            "WARNING:absl:Found a different version 3.0.0 of dataset mnist in data_dir /root/tensorflow_datasets. Using currently defined version 1.0.0.\n",
            "WARNING:absl:Found a different version 3.0.0 of dataset mnist in data_dir /root/tensorflow_datasets. Using currently defined version 1.0.0.\n",
            "WARNING:absl:Found a different version 3.0.0 of dataset mnist in data_dir /root/tensorflow_datasets. Using currently defined version 1.0.0.\n",
            "WARNING:absl:Found a different version 3.0.0 of dataset mnist in data_dir /root/tensorflow_datasets. Using currently defined version 1.0.0.\n"
          ],
          "name": "stderr"
        },
        {
          "output_type": "stream",
          "text": [
            "15000\n",
            "15000\n",
            "15000\n",
            "15000\n"
          ],
          "name": "stdout"
        }
      ]
    },
    {
      "cell_type": "markdown",
      "metadata": {
        "id": "_eXfcuwKKBB-",
        "colab_type": "text"
      },
      "source": [
        "We can also perform the same operation, by specifying a percentage slice in the subsplit method instead. In the example below, we divide the training set into four splits by specifying a percentage slice, with tfds.percent."
      ]
    },
    {
      "cell_type": "code",
      "metadata": {
        "id": "kOJV8huAKYuD",
        "colab_type": "code",
        "colab": {
          "base_uri": "https://localhost:8080/",
          "height": 173
        },
        "outputId": "dca9299f-4cd7-4bcc-bec5-0c561c3c28a8"
      },
      "source": [
        "s1 = tfds.Split.TRAIN.subsplit(tfds.percent[0:25])\n",
        "s2 = tfds.Split.TRAIN.subsplit(tfds.percent[25:50])\n",
        "s3= tfds.Split.TRAIN.subsplit(tfds.percent[50:75])\n",
        "s4= tfds.Split.TRAIN.subsplit(tfds.percent[75:100])\n",
        "\n",
        "dataset_split_1 = tfds.load(\"mnist:1.*.*\", split=s1)\n",
        "dataset_split_2 = tfds.load(\"mnist:1.*.*\", split=s2)\n",
        "dataset_split_3 = tfds.load(\"mnist:1.*.*\", split=s3)\n",
        "dataset_split_4 = tfds.load(\"mnist:1.*.*\", split=s4)\n",
        "\n",
        "print(len(list(dataset_split_1)))\n",
        "print(len(list(dataset_split_2)))\n",
        "print(len(list(dataset_split_3)))\n",
        "print(len(list(dataset_split_4)))\n"
      ],
      "execution_count": 11,
      "outputs": [
        {
          "output_type": "stream",
          "text": [
            "WARNING:absl:Found a different version 3.0.0 of dataset mnist in data_dir /root/tensorflow_datasets. Using currently defined version 1.0.0.\n",
            "WARNING:absl:Found a different version 3.0.0 of dataset mnist in data_dir /root/tensorflow_datasets. Using currently defined version 1.0.0.\n",
            "WARNING:absl:Found a different version 3.0.0 of dataset mnist in data_dir /root/tensorflow_datasets. Using currently defined version 1.0.0.\n",
            "WARNING:absl:Found a different version 3.0.0 of dataset mnist in data_dir /root/tensorflow_datasets. Using currently defined version 1.0.0.\n"
          ],
          "name": "stderr"
        },
        {
          "output_type": "stream",
          "text": [
            "15000\n",
            "15000\n",
            "15000\n",
            "15000\n"
          ],
          "name": "stdout"
        }
      ]
    },
    {
      "cell_type": "markdown",
      "metadata": {
        "id": "87VxGbtPLDYm",
        "colab_type": "text"
      },
      "source": [
        "#Using the New S3 API"
      ]
    },
    {
      "cell_type": "markdown",
      "metadata": {
        "id": "fVfzf4YQL2ex",
        "colab_type": "text"
      },
      "source": [
        "Before using the new S3 API, we must first find out whether the MNIST dataset implements the new S3 API. In the cell below we indicate that we want to use version 3.*.* of the MNIST dataset."
      ]
    },
    {
      "cell_type": "code",
      "metadata": {
        "id": "hGMA-ag5La1i",
        "colab_type": "code",
        "colab": {
          "base_uri": "https://localhost:8080/",
          "height": 34
        },
        "outputId": "f94a4174-9384-401d-842f-29b99d8c62a1"
      },
      "source": [
        "mnist_builder = tfds.builder(\"mnist:3.*.*\")\n",
        "print(mnist_builder.version.implements(tfds.core.Experiment.S3))"
      ],
      "execution_count": 15,
      "outputs": [
        {
          "output_type": "stream",
          "text": [
            "True\n"
          ],
          "name": "stdout"
        }
      ]
    },
    {
      "cell_type": "code",
      "metadata": {
        "id": "x2knQXfALsNe",
        "colab_type": "code",
        "colab": {
          "base_uri": "https://localhost:8080/",
          "height": 51
        },
        "outputId": "e69ea011-44b4-4da1-b5ec-280b849e1ec5"
      },
      "source": [
        "train_ds , test_ds = tfds.load('mnist:3.*.*', split=['train', 'test'])\n",
        "print(len(list(train_ds)))\n",
        "print(len(list(test_ds)))"
      ],
      "execution_count": 18,
      "outputs": [
        {
          "output_type": "stream",
          "text": [
            "60000\n",
            "10000\n"
          ],
          "name": "stdout"
        }
      ]
    },
    {
      "cell_type": "code",
      "metadata": {
        "id": "NtOlsfo8MS0Q",
        "colab_type": "code",
        "colab": {
          "base_uri": "https://localhost:8080/",
          "height": 34
        },
        "outputId": "e12f140d-efeb-48f3-adb6-537e2718907b"
      },
      "source": [
        "combined = tfds.load('mnist:3.*.*', split='train+test')\n",
        "print(len(list(combined)))"
      ],
      "execution_count": 22,
      "outputs": [
        {
          "output_type": "stream",
          "text": [
            "70000\n"
          ],
          "name": "stdout"
        }
      ]
    },
    {
      "cell_type": "markdown",
      "metadata": {
        "id": "qqgWXrqoNMt7",
        "colab_type": "text"
      },
      "source": [
        "We can also use Python style list slicers to specify the data we want. For example, we can specify that we want to take the first 10,000 records of the train split with the string 'train[:10000]', as shown below:"
      ]
    },
    {
      "cell_type": "code",
      "metadata": {
        "id": "HFEHf7ygMw77",
        "colab_type": "code",
        "colab": {
          "base_uri": "https://localhost:8080/",
          "height": 34
        },
        "outputId": "29462302-a559-426f-c322-dfd840151752"
      },
      "source": [
        "first10k = tfds.load('mnist', split='train[:10000]')\n",
        "print(len(list(first10k)))"
      ],
      "execution_count": 23,
      "outputs": [
        {
          "output_type": "stream",
          "text": [
            "10000\n"
          ],
          "name": "stdout"
        }
      ]
    },
    {
      "cell_type": "markdown",
      "metadata": {
        "id": "cYcIl0AgNeKf",
        "colab_type": "text"
      },
      "source": [
        "The S3 API, also allows us to specify the percentage of the data we want to use. For example, we can select the first 20\\% of the training set with the string 'train[:20%]', as shown below:"
      ]
    },
    {
      "cell_type": "code",
      "metadata": {
        "id": "v_RxWtCINJ7N",
        "colab_type": "code",
        "colab": {
          "base_uri": "https://localhost:8080/",
          "height": 34
        },
        "outputId": "cc5fc777-7d8b-4c1d-ade9-abdd9e9e16f7"
      },
      "source": [
        "first20p = tfds.load('mnist', split= 'train[:20%]')\n",
        "print(len(list(first20p)))"
      ],
      "execution_count": 24,
      "outputs": [
        {
          "output_type": "stream",
          "text": [
            "12000\n"
          ],
          "name": "stdout"
        }
      ]
    },
    {
      "cell_type": "markdown",
      "metadata": {
        "id": "_f7X6j9ENknn",
        "colab_type": "text"
      },
      "source": [
        "Because the slices are string-based we can use loops, like the ones shown below, to slice up the dataset and make some pretty complex splits. For example, the loops below create 10 complimentary validation and training sets (each loop returns a list with 5 data set"
      ]
    },
    {
      "cell_type": "code",
      "metadata": {
        "id": "tirFZnhONcRe",
        "colab_type": "code",
        "colab": {}
      },
      "source": [
        "val_ds = tfds.load('mnist', split=['train[{}%:{}%]'.format(k,k+20) for k in range(0,100,20)\n",
        "                                   ])\n",
        "train_ds = tfds.load('mnist', split= ['train[:{}%]+train[{}%:]'.format(k,k+20) for k in range(0,100,20)])"
      ],
      "execution_count": 29,
      "outputs": []
    },
    {
      "cell_type": "code",
      "metadata": {
        "id": "Wbq0qednO5zG",
        "colab_type": "code",
        "colab": {
          "base_uri": "https://localhost:8080/",
          "height": 102
        },
        "outputId": "b76c8670-51f9-4044-b1d4-88b4ca18e6a0"
      },
      "source": [
        "['train[{}%:{}%]'.format(k,k+20) for k in range(0,100,20)\n",
        "                                   ]"
      ],
      "execution_count": 27,
      "outputs": [
        {
          "output_type": "execute_result",
          "data": {
            "text/plain": [
              "['train[0%:20%]',\n",
              " 'train[20%:40%]',\n",
              " 'train[40%:60%]',\n",
              " 'train[60%:80%]',\n",
              " 'train[80%:100%]']"
            ]
          },
          "metadata": {
            "tags": []
          },
          "execution_count": 27
        }
      ]
    },
    {
      "cell_type": "code",
      "metadata": {
        "id": "sQg-mA03O6Ia",
        "colab_type": "code",
        "colab": {
          "base_uri": "https://localhost:8080/",
          "height": 102
        },
        "outputId": "319bede4-f7d4-4e96-a385-a4b4b0a6ff91"
      },
      "source": [
        "['train[:{}%]+train[{}%:]'.format(k,k+20) for k in range(0,100,20)]"
      ],
      "execution_count": 28,
      "outputs": [
        {
          "output_type": "execute_result",
          "data": {
            "text/plain": [
              "['train[:0%]+train[20%:]',\n",
              " 'train[:20%]+train[40%:]',\n",
              " 'train[:40%]+train[60%:]',\n",
              " 'train[:60%]+train[80%:]',\n",
              " 'train[:80%]+train[100%:]']"
            ]
          },
          "metadata": {
            "tags": []
          },
          "execution_count": 28
        }
      ]
    },
    {
      "cell_type": "code",
      "metadata": {
        "id": "fvYkKVd0O8Hp",
        "colab_type": "code",
        "colab": {
          "base_uri": "https://localhost:8080/",
          "height": 102
        },
        "outputId": "32eb5271-be8b-4041-cb33-853f97fc2c13"
      },
      "source": [
        "val_ds "
      ],
      "execution_count": 30,
      "outputs": [
        {
          "output_type": "execute_result",
          "data": {
            "text/plain": [
              "[<DatasetV1Adapter shapes: {image: (28, 28, 1), label: ()}, types: {image: tf.uint8, label: tf.int64}>,\n",
              " <DatasetV1Adapter shapes: {image: (28, 28, 1), label: ()}, types: {image: tf.uint8, label: tf.int64}>,\n",
              " <DatasetV1Adapter shapes: {image: (28, 28, 1), label: ()}, types: {image: tf.uint8, label: tf.int64}>,\n",
              " <DatasetV1Adapter shapes: {image: (28, 28, 1), label: ()}, types: {image: tf.uint8, label: tf.int64}>,\n",
              " <DatasetV1Adapter shapes: {image: (28, 28, 1), label: ()}, types: {image: tf.uint8, label: tf.int64}>]"
            ]
          },
          "metadata": {
            "tags": []
          },
          "execution_count": 30
        }
      ]
    },
    {
      "cell_type": "code",
      "metadata": {
        "id": "3sLzhINFPV0p",
        "colab_type": "code",
        "colab": {
          "base_uri": "https://localhost:8080/",
          "height": 102
        },
        "outputId": "01d5448b-0b4e-4c7d-90b7-94dd5fbc0b38"
      },
      "source": [
        "train_ds"
      ],
      "execution_count": 31,
      "outputs": [
        {
          "output_type": "execute_result",
          "data": {
            "text/plain": [
              "[<DatasetV1Adapter shapes: {image: (28, 28, 1), label: ()}, types: {image: tf.uint8, label: tf.int64}>,\n",
              " <DatasetV1Adapter shapes: {image: (28, 28, 1), label: ()}, types: {image: tf.uint8, label: tf.int64}>,\n",
              " <DatasetV1Adapter shapes: {image: (28, 28, 1), label: ()}, types: {image: tf.uint8, label: tf.int64}>,\n",
              " <DatasetV1Adapter shapes: {image: (28, 28, 1), label: ()}, types: {image: tf.uint8, label: tf.int64}>,\n",
              " <DatasetV1Adapter shapes: {image: (28, 28, 1), label: ()}, types: {image: tf.uint8, label: tf.int64}>]"
            ]
          },
          "metadata": {
            "tags": []
          },
          "execution_count": 31
        }
      ]
    },
    {
      "cell_type": "code",
      "metadata": {
        "id": "tMt9mHBVPX1U",
        "colab_type": "code",
        "colab": {
          "base_uri": "https://localhost:8080/",
          "height": 51
        },
        "outputId": "7e4d93ef-179b-42bb-8359-e956d6385b0b"
      },
      "source": [
        "print(len(list(val_ds)))\n",
        "print(len(list(train_ds)))"
      ],
      "execution_count": 32,
      "outputs": [
        {
          "output_type": "stream",
          "text": [
            "5\n",
            "5\n"
          ],
          "name": "stdout"
        }
      ]
    },
    {
      "cell_type": "markdown",
      "metadata": {
        "id": "Oss52AWMPlkX",
        "colab_type": "text"
      },
      "source": [
        "The S3 API also allows us to compose new datasets by using pieces from different splits. For example, we can create a new dataset from the first 10\\% of the test set and the last 80\\% of the training set, as shown below."
      ]
    },
    {
      "cell_type": "code",
      "metadata": {
        "id": "bTPHWcrvPa6k",
        "colab_type": "code",
        "colab": {
          "base_uri": "https://localhost:8080/",
          "height": 34
        },
        "outputId": "32d74b65-9af2-4b71-e3b3-662fdf3d5d0e"
      },
      "source": [
        "composed_ds = tfds.load('mnist:3.*.*', split='test[:10%]+train[-80%:]')\n",
        "\n",
        "print(len(list(composed_ds)))"
      ],
      "execution_count": 33,
      "outputs": [
        {
          "output_type": "stream",
          "text": [
            "49000\n"
          ],
          "name": "stdout"
        }
      ]
    },
    {
      "cell_type": "code",
      "metadata": {
        "id": "SPiw0ztIPnbc",
        "colab_type": "code",
        "colab": {}
      },
      "source": [
        ""
      ],
      "execution_count": null,
      "outputs": []
    }
  ]
}